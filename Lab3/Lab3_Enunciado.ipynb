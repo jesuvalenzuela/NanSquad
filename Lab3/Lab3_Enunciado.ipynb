{
  "cells": [
    {
      "cell_type": "markdown",
      "metadata": {
        "cell_id": "8dd9b572c805487a9fb430fdc4ab12bb",
        "deepnote_cell_height": 156.26666259765625,
        "deepnote_cell_type": "markdown",
        "id": "XUZ1dFPHzAHl"
      },
      "source": [
        "<h1><center>Laboratorio 3: La desperación de Mr. Cheems 🐼</center></h1>\n",
        "\n",
        "<center><strong>MDS7202: Laboratorio de Programación Científica para Ciencia de Datos - Primavera 2025</strong></center>"
      ]
    },
    {
      "cell_type": "markdown",
      "metadata": {
        "cell_id": "d65413cd8566460dbceffcd13ca236e7",
        "deepnote_cell_type": "markdown",
        "id": "UD8X1uhGzAHq"
      },
      "source": [
        "### Cuerpo Docente:\n",
        "\n",
        "- Profesores: Diego Cortez, Gabriel Iturra\n",
        "- Auxiliares: Melanie Peña, Valentina Rojas\n",
        "- Ayudantes: Nicolás Cabello, Cristopher Urbina"
      ]
    },
    {
      "cell_type": "markdown",
      "metadata": {
        "cell_id": "8e9217d02d124830a9b86046600a1605",
        "deepnote_cell_height": 172.13333129882812,
        "deepnote_cell_type": "markdown",
        "id": "tXflExjqzAHr"
      },
      "source": [
        "### Equipo: SUPER IMPORTANTE - notebooks sin nombre no serán revisados\n",
        "\n",
        "- Nombre de alumno 1: María Jesús Valenzuela\n",
        "- Nombre de alumno 2: Matías Zúñiga\n"
      ]
    },
    {
      "cell_type": "markdown",
      "metadata": {
        "cell_id": "010402b6d5f743b885a80d2e1c6ae11a",
        "deepnote_cell_height": 62.19999694824219,
        "deepnote_cell_type": "markdown",
        "id": "AD-V0bbZzAHr"
      },
      "source": [
        "### **Link de repositorio de GitHub:** [Repositorio](https://github.com/jesuvalenzuela/NanSquad)"
      ]
    },
    {
      "cell_type": "markdown",
      "metadata": {
        "cell_id": "ef0224c7a99e4b718b55493b0a1e99c4",
        "deepnote_cell_height": 724.9000244140625,
        "deepnote_cell_type": "markdown",
        "id": "6uBLPj1PzAHs"
      },
      "source": [
        "## Temas a tratar\n",
        "- Aplicar Pandas para obtener características de un DataFrame.\n",
        "- Aplicar Pipelines y Column Transformers\n",
        "\n",
        "## Reglas:\n",
        "\n",
        "- **Grupos de 2 personas**\n",
        "- Fecha de entrega: Entregas Martes a las 23:59.\n",
        "- Instrucciones del lab el viernes a las 16:15 en formato online. Asistencia no es obligatoria, pero se recomienda **fuertemente** asistir.\n",
        "- <u>Prohibidas las copias</u>. Cualquier intento de copia será debidamente penalizado con el reglamento de la escuela.\n",
        "- Tienen que subir el laboratorio a u-cursos y a su repositorio de github. Labs que no estén en u-cursos no serán revisados. Recuerden que el repositorio también tiene nota.\n",
        "- Cualquier duda fuera del horario de clases al foro. Mensajes al equipo docente serán respondidos por este medio.\n",
        "- Pueden usar cualquier material del curso que estimen conveniente.\n",
        "\n",
        "### Objetivos principales del laboratorio\n",
        "- Comprender cómo aplicar pipelines de Scikit-Learn para generar procesos más limpios en Feature Engineering.\n",
        "\n",
        "El laboratorio deberá ser desarrollado sin el uso indiscriminado de iteradores nativos de python (aka \"for\", \"while\"). La idea es que aprendan a exprimir al máximo las funciones optimizadas que nos entrega `numpy`, las cuales vale mencionar, son bastante más eficientes que los iteradores nativos sobre arreglos (*o tensores*)."
      ]
    },
    {
      "cell_type": "markdown",
      "metadata": {
        "cell_id": "59664481c26f4ac4a753765269b1db6a",
        "deepnote_cell_height": 69.86666870117188,
        "deepnote_cell_type": "markdown",
        "id": "wrG4gYabzAHs"
      },
      "source": [
        "## Descripción del laboratorio."
      ]
    },
    {
      "cell_type": "markdown",
      "metadata": {
        "cell_id": "8c7bf8ea553d44c7a2efd61106a0bac2",
        "deepnote_cell_height": 61.866668701171875,
        "deepnote_cell_type": "markdown",
        "id": "MhISwri4zAHy"
      },
      "source": [
        "### Importamos librerias utiles 😸"
      ]
    },
    {
      "cell_type": "code",
      "execution_count": 16,
      "metadata": {},
      "outputs": [
        {
          "name": "stdout",
          "output_type": "stream",
          "text": [
            "Package                   Version\n",
            "------------------------- --------------\n",
            "anyio                     4.10.0\n",
            "appnope                   0.1.4\n",
            "argon2-cffi               25.1.0\n",
            "argon2-cffi-bindings      25.1.0\n",
            "arrow                     1.3.0\n",
            "asttokens                 3.0.0\n",
            "async-lru                 2.0.5\n",
            "attrs                     25.3.0\n",
            "babel                     2.17.0\n",
            "beautifulsoup4            4.13.5\n",
            "bleach                    6.2.0\n",
            "certifi                   2025.8.3\n",
            "cffi                      1.17.1\n",
            "charset-normalizer        3.4.3\n",
            "comm                      0.2.3\n",
            "contourpy                 1.3.3\n",
            "cycler                    0.12.1\n",
            "debugpy                   1.8.16\n",
            "decorator                 5.2.1\n",
            "defusedxml                0.7.1\n",
            "entrypoints               0.4\n",
            "executing                 2.2.0\n",
            "fastjsonschema            2.21.2\n",
            "fonttools                 4.59.2\n",
            "fqdn                      1.5.1\n",
            "h11                       0.16.0\n",
            "httpcore                  1.0.9\n",
            "httpx                     0.28.1\n",
            "idna                      3.10\n",
            "ipykernel                 6.29.5\n",
            "ipython                   9.5.0\n",
            "ipython_pygments_lexers   1.1.1\n",
            "ipywidgets                8.1.7\n",
            "isoduration               20.11.0\n",
            "jedi                      0.19.2\n",
            "Jinja2                    3.1.6\n",
            "joblib                    1.5.2\n",
            "json5                     0.12.1\n",
            "jsonpointer               3.0.0\n",
            "jsonschema                4.25.1\n",
            "jsonschema-specifications 2025.4.1\n",
            "jupyter                   1.1.1\n",
            "jupyter_client            7.4.9\n",
            "jupyter-console           6.6.3\n",
            "jupyter_core              5.8.1\n",
            "jupyter-events            0.12.0\n",
            "jupyter-lsp               2.3.0\n",
            "jupyter_server            2.17.0\n",
            "jupyter_server_terminals  0.5.3\n",
            "jupyterlab                4.4.6\n",
            "jupyterlab_pygments       0.3.0\n",
            "jupyterlab_server         2.27.3\n",
            "jupyterlab_widgets        3.0.15\n",
            "kiwisolver                1.4.9\n",
            "lark                      1.2.2\n",
            "MarkupSafe                3.0.2\n",
            "matplotlib                3.10.6\n",
            "matplotlib-inline         0.1.7\n",
            "mistune                   3.1.4\n",
            "narwhals                  2.3.0\n",
            "nbclient                  0.10.2\n",
            "nbconvert                 7.16.6\n",
            "nbformat                  5.10.4\n",
            "nest-asyncio              1.6.0\n",
            "notebook                  7.4.5\n",
            "notebook_shim             0.2.4\n",
            "numpy                     2.3.2\n",
            "overrides                 7.7.0\n",
            "packaging                 25.0\n",
            "pandas                    2.3.2\n",
            "pandocfilters             1.5.1\n",
            "parso                     0.8.5\n",
            "pexpect                   4.9.0\n",
            "pillow                    11.3.0\n",
            "pip                       25.1.1\n",
            "platformdirs              4.4.0\n",
            "plotly                    6.3.0\n",
            "prometheus_client         0.22.1\n",
            "prompt_toolkit            3.0.52\n",
            "psutil                    7.0.0\n",
            "ptyprocess                0.7.0\n",
            "pure_eval                 0.2.3\n",
            "pycparser                 2.22\n",
            "Pygments                  2.19.2\n",
            "pyparsing                 3.2.3\n",
            "python-dateutil           2.9.0.post0\n",
            "python-json-logger        3.3.0\n",
            "pytz                      2025.2\n",
            "PyYAML                    6.0.2\n",
            "pyzmq                     24.0.1\n",
            "referencing               0.36.2\n",
            "requests                  2.32.5\n",
            "rfc3339-validator         0.1.4\n",
            "rfc3986-validator         0.1.1\n",
            "rfc3987-syntax            1.1.0\n",
            "rpds-py                   0.27.1\n",
            "scikit-learn              1.7.1\n",
            "scipy                     1.16.1\n",
            "seaborn                   0.13.2\n",
            "Send2Trash                1.8.3\n",
            "setuptools                80.9.0\n",
            "six                       1.17.0\n",
            "sniffio                   1.3.1\n",
            "soupsieve                 2.8\n",
            "stack-data                0.6.3\n",
            "terminado                 0.18.1\n",
            "threadpoolctl             3.6.0\n",
            "tinycss2                  1.4.0\n",
            "tornado                   6.5.2\n",
            "traitlets                 5.14.3\n",
            "types-python-dateutil     2.9.0.20250822\n",
            "typing_extensions         4.15.0\n",
            "tzdata                    2025.2\n",
            "uri-template              1.3.0\n",
            "urllib3                   2.5.0\n",
            "wcwidth                   0.2.13\n",
            "webcolors                 24.11.1\n",
            "webencodings              0.5.1\n",
            "websocket-client          1.8.0\n",
            "wheel                     0.45.1\n",
            "widgetsnbextension        4.0.14\n",
            "Note: you may need to restart the kernel to use updated packages.\n"
          ]
        }
      ],
      "source": [
        "pip list"
      ]
    },
    {
      "cell_type": "code",
      "execution_count": 17,
      "metadata": {
        "ExecuteTime": {
          "end_time": "2021-03-29T00:08:16.884674Z",
          "start_time": "2021-03-29T00:08:16.349846Z"
        },
        "cell_id": "67b4b29f0e6b48719b58d579276f2b19",
        "deepnote_cell_height": 514.13330078125,
        "deepnote_cell_type": "code",
        "deepnote_to_be_reexecuted": false,
        "execution_millis": 8517,
        "execution_start": 1635469788590,
        "id": "uyc33dKdzAHy",
        "source_hash": "a3741fd5"
      },
      "outputs": [
        {
          "name": "stdout",
          "output_type": "stream",
          "text": [
            "zsh:1: command not found: pip\n"
          ]
        }
      ],
      "source": [
        "# Libreria Core del lab.\n",
        "import numpy as np\n",
        "import pandas as pd\n",
        "import datetime\n",
        "from IPython.display import HTML\n",
        "\n",
        "# Libreria para plotear (En colab esta desactualizado plotly)\n",
        "!pip install --upgrade plotly\n",
        "import plotly.express as px\n",
        "import plotly.graph_objects as go\n",
        "\n",
        "# Se usará matplotlib por preferencia personal\n",
        "import matplotlib.pyplot as plt\n",
        "\n",
        "# Librerias utiles\n",
        "from sklearn.base import BaseEstimator, TransformerMixin\n",
        "from sklearn.pipeline import Pipeline\n",
        "from sklearn.compose import ColumnTransformer\n",
        "from sklearn.preprocessing import FunctionTransformer"
      ]
    },
    {
      "cell_type": "code",
      "execution_count": 18,
      "metadata": {
        "cell_id": "ce6a19ec6fc6486e832760ac3740d7ef",
        "deepnote_cell_height": 219.46665954589844,
        "deepnote_cell_type": "code",
        "deepnote_to_be_reexecuted": false,
        "execution_millis": 7,
        "execution_start": 1635165625274,
        "id": "gQ0-zPV4NNrq",
        "outputId": "a7c33afa-37fe-4965-de1a-53b8994c8c07",
        "source_hash": "c60dc4a7"
      },
      "outputs": [
        {
          "name": "stdout",
          "output_type": "stream",
          "text": [
            "Ignorando conexión drive-colab\n"
          ]
        }
      ],
      "source": [
        "# Si usted está utilizando Colabolatory le puede ser útil este código para cargar los archivos.\n",
        "try:\n",
        "    from google.colab import drive\n",
        "    drive.mount(\"/content/drive\")\n",
        "    path = 'Dirección donde tiene los archivos en el Drive'\n",
        "except:\n",
        "    print('Ignorando conexión drive-colab')"
      ]
    },
    {
      "cell_type": "markdown",
      "metadata": {
        "cell_id": "28c7a8b483d84878ac5a4f7ba882b711",
        "deepnote_cell_height": 133.86666870117188,
        "deepnote_cell_type": "markdown",
        "id": "QDwIXTh7bK_A",
        "owner_user_id": "badcc427-fd3d-4615-9296-faa43ec69cfb"
      },
      "source": [
        "# Feature engineering en datos de retail 🛍️"
      ]
    },
    {
      "cell_type": "markdown",
      "metadata": {
        "cell_id": "160bb2695f6547448bfb0f99420f952c",
        "deepnote_cell_height": 69.86666870117188,
        "deepnote_cell_type": "markdown",
        "id": "_Eu4qBqnXMff",
        "tags": []
      },
      "source": [
        "### 0. Cargar Dataset"
      ]
    },
    {
      "cell_type": "markdown",
      "metadata": {
        "cell_id": "6c6799ecc9e74272922d46a3b5a8b79e",
        "deepnote_cell_height": 294.683349609375,
        "deepnote_cell_type": "markdown",
        "id": "4shIzqqwXMfe",
        "tags": []
      },
      "source": [
        "<p align=\"center\">\n",
        "  <img width=300 src=\"https://s1.eestatic.com/2018/04/14/social/la_jungla_-_social_299733421_73842361_854x640.jpg\">\n",
        "</p>"
      ]
    },
    {
      "cell_type": "markdown",
      "metadata": {
        "cell_id": "48d29c89e3b6455083f8fac764f97f3b",
        "deepnote_cell_height": 475.066650390625,
        "deepnote_cell_type": "markdown",
        "id": "cDpKjYRCXMfg",
        "tags": []
      },
      "source": [
        "Mr. Cheems, gerente de una cotizada tienda de retail en Europa, les solicita si pueden analizar los datos de algunas de sus tiendas. En una reunión, Mr Cheems le comenta que la calidad de sus datos no es muy buena, por lo que le solicita a usted que limpie su base de datos y cree nuevos atributos relevantes para el negocio.\n",
        "\n",
        "Por ello, el área de ventas les entrega archivo llamado `online_retail_data.pickle` el cual usted decide cargar a continuación."
      ]
    },
    {
      "cell_type": "code",
      "execution_count": 19,
      "metadata": {},
      "outputs": [
        {
          "name": "stdout",
          "output_type": "stream",
          "text": [
            "Lab3_Enunciado.ipynb       online_retail_data.pickle\n"
          ]
        }
      ],
      "source": [
        "ls"
      ]
    },
    {
      "cell_type": "code",
      "execution_count": 20,
      "metadata": {
        "cell_id": "4d7d0f0855744e6c9d5a2198e5dcd690",
        "colab": {
          "base_uri": "https://localhost:8080/",
          "height": 204
        },
        "deepnote_cell_height": 489.79998779296875,
        "deepnote_cell_type": "code",
        "deepnote_output_heights": [
          177
        ],
        "deepnote_to_be_reexecuted": false,
        "execution_millis": 466,
        "execution_start": 1635469797118,
        "id": "7FNOu-CvjV5m",
        "outputId": "90b4f92c-71df-44d4-8084-4dd06a6179e4",
        "source_hash": "d52b246c"
      },
      "outputs": [
        {
          "data": {
            "text/html": [
              "<div>\n",
              "<style scoped>\n",
              "    .dataframe tbody tr th:only-of-type {\n",
              "        vertical-align: middle;\n",
              "    }\n",
              "\n",
              "    .dataframe tbody tr th {\n",
              "        vertical-align: top;\n",
              "    }\n",
              "\n",
              "    .dataframe thead th {\n",
              "        text-align: right;\n",
              "    }\n",
              "</style>\n",
              "<table border=\"1\" class=\"dataframe\">\n",
              "  <thead>\n",
              "    <tr style=\"text-align: right;\">\n",
              "      <th></th>\n",
              "      <th>Invoice</th>\n",
              "      <th>StockCode</th>\n",
              "      <th>Description</th>\n",
              "      <th>Quantity</th>\n",
              "      <th>InvoiceDate</th>\n",
              "      <th>Price</th>\n",
              "      <th>Customer ID</th>\n",
              "      <th>Country</th>\n",
              "    </tr>\n",
              "  </thead>\n",
              "  <tbody>\n",
              "    <tr>\n",
              "      <th>0</th>\n",
              "      <td>ID489434</td>\n",
              "      <td>85048</td>\n",
              "      <td>15CM CHRISTMAS GLASS BALL 20 LIGHTS</td>\n",
              "      <td>12.0</td>\n",
              "      <td>2009-12-01 07:45:00</td>\n",
              "      <td>6.95</td>\n",
              "      <td>13085.0</td>\n",
              "      <td>United Kingdom</td>\n",
              "    </tr>\n",
              "    <tr>\n",
              "      <th>1</th>\n",
              "      <td>ID489434</td>\n",
              "      <td>79323P</td>\n",
              "      <td>PINK CHERRY LIGHTS</td>\n",
              "      <td>12.0</td>\n",
              "      <td>NaT</td>\n",
              "      <td>6.75</td>\n",
              "      <td>13085.0</td>\n",
              "      <td>United Kingdom</td>\n",
              "    </tr>\n",
              "    <tr>\n",
              "      <th>2</th>\n",
              "      <td>ID489434</td>\n",
              "      <td>79323W</td>\n",
              "      <td>WHITE CHERRY LIGHTS</td>\n",
              "      <td>12.0</td>\n",
              "      <td>2009-12-01 07:45:00</td>\n",
              "      <td>6.75</td>\n",
              "      <td>13085.0</td>\n",
              "      <td>United Kingdom</td>\n",
              "    </tr>\n",
              "    <tr>\n",
              "      <th>3</th>\n",
              "      <td>ID489434</td>\n",
              "      <td>22041</td>\n",
              "      <td>RECORD FRAME 7\" SINGLE SIZE</td>\n",
              "      <td>48.0</td>\n",
              "      <td>2009-12-01 07:45:00</td>\n",
              "      <td>2.10</td>\n",
              "      <td>13085.0</td>\n",
              "      <td>United Kingdom</td>\n",
              "    </tr>\n",
              "    <tr>\n",
              "      <th>4</th>\n",
              "      <td>ID489434</td>\n",
              "      <td>21232</td>\n",
              "      <td>STRAWBERRY CERAMIC TRINKET BOX</td>\n",
              "      <td>24.0</td>\n",
              "      <td>2009-12-01 07:45:00</td>\n",
              "      <td>1.25</td>\n",
              "      <td>13085.0</td>\n",
              "      <td>United Kingdom</td>\n",
              "    </tr>\n",
              "  </tbody>\n",
              "</table>\n",
              "</div>"
            ],
            "text/plain": [
              "    Invoice StockCode                          Description  Quantity  \\\n",
              "0  ID489434     85048  15CM CHRISTMAS GLASS BALL 20 LIGHTS      12.0   \n",
              "1  ID489434    79323P                   PINK CHERRY LIGHTS      12.0   \n",
              "2  ID489434    79323W                  WHITE CHERRY LIGHTS      12.0   \n",
              "3  ID489434     22041         RECORD FRAME 7\" SINGLE SIZE       48.0   \n",
              "4  ID489434     21232       STRAWBERRY CERAMIC TRINKET BOX      24.0   \n",
              "\n",
              "          InvoiceDate  Price Customer ID         Country  \n",
              "0 2009-12-01 07:45:00   6.95     13085.0  United Kingdom  \n",
              "1                 NaT   6.75     13085.0  United Kingdom  \n",
              "2 2009-12-01 07:45:00   6.75     13085.0  United Kingdom  \n",
              "3 2009-12-01 07:45:00   2.10     13085.0  United Kingdom  \n",
              "4 2009-12-01 07:45:00   1.25     13085.0  United Kingdom  "
            ]
          },
          "execution_count": 20,
          "metadata": {},
          "output_type": "execute_result"
        }
      ],
      "source": [
        "# Inserte su código aquí\n",
        "df_retail = pd.read_pickle('online_retail_data.pickle')\n",
        "df_retail.head()"
      ]
    },
    {
      "cell_type": "markdown",
      "metadata": {
        "id": "Q6nm_0uWvrFv"
      },
      "source": [
        "### 1. Función para explorar características [0.5 puntos]"
      ]
    },
    {
      "cell_type": "markdown",
      "metadata": {
        "id": "KOZEZbbLoqfI"
      },
      "source": [
        "<p align=\"center\">\n",
        "  <img width=300 src=\"https://editor.analyticsvidhya.com/uploads/47389meme.png\">\n",
        "</p>\n"
      ]
    },
    {
      "cell_type": "markdown",
      "metadata": {
        "id": "J-7ZaNutk2GO"
      },
      "source": [
        "\n",
        "\n",
        "Tras inspeccionar brevemente los datos proporcionados, usted decide crear una función que realice lo siguiente:\n",
        "- Plotee un histograma para las variables precios y cantidad. [0.3 puntos]\n",
        "- Imprima un conteo de datos nulos por variable [0.2 puntos]\n",
        "\n",
        "**Nota**: Para generar los gráficos no es obligatorio el uso de `plotly`, pero si es altamente recomendado. Pueden encontrar más información de esta librería en este [enlace](https://plotly.com/python/)."
      ]
    },
    {
      "cell_type": "markdown",
      "metadata": {
        "id": "TM8FZ_4Yuiwi"
      },
      "source": [
        "**Respuesta:**"
      ]
    },
    {
      "cell_type": "code",
      "execution_count": 21,
      "metadata": {
        "id": "uDqT1Ljpk7vp"
      },
      "outputs": [],
      "source": [
        "# Se usará matplotlib por preferencia personal\n",
        "\n",
        "def explore_data(dataframe_in, bins=30):\n",
        "  \"\"\"Grafica histogramas para las variables 'Price' y 'Quantity' de un DataFrame\"\"\"\n",
        "\n",
        "  # Price\n",
        "  plt.figure(figsize = (8,4))\n",
        "  plt.hist(dataframe_in['Price'], bins=bins)\n",
        "  plt.title('Histograma de Precio')\n",
        "  plt.show()\n",
        "\n",
        "  # Quantity\n",
        "  plt.figure(figsize = (8,4))\n",
        "  plt.hist(dataframe_in['Quantity'], bins=bins)\n",
        "  plt.title('Histograma de Cantidad')\n",
        "  plt.show()\n",
        "\n",
        "  # Nulos\n",
        "  print(f'conteo de nulos:\\n{dataframe_in.isna().sum()}')"
      ]
    },
    {
      "cell_type": "code",
      "execution_count": 22,
      "metadata": {},
      "outputs": [
        {
          "data": {
            "image/png": "[encoded data removed]",
            "text/plain": [
              "<Figure size 800x400 with 1 Axes>"
            ]
          },
          "metadata": {},
          "output_type": "display_data"
        },
        {
          "data": {
            "image/png": "[encoded data removed]",
            "text/plain": [
              "<Figure size 800x400 with 1 Axes>"
            ]
          },
          "metadata": {},
          "output_type": "display_data"
        },
        {
          "name": "stdout",
          "output_type": "stream",
          "text": [
            "conteo de nulos:\n",
            "Invoice           0\n",
            "StockCode         0\n",
            "Description       0\n",
            "Quantity       7915\n",
            "InvoiceDate    9308\n",
            "Price          8356\n",
            "Customer ID       0\n",
            "Country        8164\n",
            "dtype: int64\n"
          ]
        }
      ],
      "source": [
        "explore_data(df_retail)"
      ]
    },
    {
      "cell_type": "markdown",
      "metadata": {
        "id": "F4ZY_N0Ad1GP"
      },
      "source": [
        "### 2. Eliminando outliers [1.0 puntos]"
      ]
    },
    {
      "cell_type": "markdown",
      "metadata": {
        "id": "yXTpIi1Bo2KG"
      },
      "source": [
        "<p align=\"center\">\n",
        "  <img width=300 src=\"https://media.licdn.com/dms/image/C5612AQGdXKCka7HumA/article-cover_image-shrink_600_2000/0/1520056407281?e=2147483647&v=beta&t=VZcfjjzjK4LxXdZkSu1KisWC0Ry8bk4tPCn3R8aYdNM\">\n",
        "</p>\n",
        "\n",
        "\n"
      ]
    },
    {
      "cell_type": "markdown",
      "metadata": {
        "id": "ECqH4t-Jvj05"
      },
      "source": [
        "#### 2.1 Creando la clase IQR [0.5 puntos]"
      ]
    },
    {
      "cell_type": "markdown",
      "metadata": {
        "id": "GtCQGHN_mzEp"
      },
      "source": [
        "Entre las falencias de los datos, Mr. Cheems le comenta que a veces los operadores no ingresan el precio correcto de los productos. Mr. Cheems le comenta que se dio cuenta de este fenómeno porque hay productos con precios exagerádamente altos o bajos. Por lo cual usted decide eliminar outliers del dataframe a traves del rango intercuartil el cual cuenta con los siguientes pasos:\n",
        "\n",
        "1. Calcular el primer cuartil $Q1$ y el tercer cuartil $Q3$. Hint: utilice el método `quantile()`\n",
        "\n",
        "2. Calcular el rango intercuartil (RIC): $RIC = Q3 - Q1$\n",
        "\n",
        "3. Calcular los límites para identificar outliers:\n",
        " - Límite inferior: $~~Q1 - \\lambda \\cdot RIC$\n",
        " - Límite superior: $~~Q3 + \\lambda \\cdot RIC$\n",
        "\n",
        "4. Eliminar outliers: Los outliers son los datos que están por debajo del límite inferior o por encima del límite superior.\n",
        "\n",
        "\n",
        "Para realizar dicha tarea, usted decide crear una clase llamada `IQR()` utilizando `BaseEstimator` y `TransformerMixin` para realizar una transformación de cada una de las columnas numéricas del DataFrame utilizando `ColumnTransformer()` más tarde. Considere que lambda debe ser $\\lambda$ un parámetro a definir por el usuario.\n",
        "\n",
        "**Hint:** tome como referencia el siguiente [enlace](https://sklearn-template.readthedocs.io/en/latest/user_guide.html#transformer).\n",
        "\n",
        "**Nota:** No modificar el método set_output de la clase IQR"
      ]
    },
    {
      "cell_type": "markdown",
      "metadata": {
        "id": "3uqK6AZnuhmL"
      },
      "source": [
        "**Respuesta:**"
      ]
    },
    {
      "cell_type": "code",
      "execution_count": 23,
      "metadata": {
        "id": "70CGFkRScKKP"
      },
      "outputs": [],
      "source": [
        "class IQR(BaseEstimator, TransformerMixin):\n",
        "\n",
        "  def __init__(self, lambda_ = 1.5):\n",
        "    # Inicializar\n",
        "    self.lambda_ = lambda_\n",
        "\n",
        "  def fit(self, X):\n",
        "    # Si solo se entrega una columna:\n",
        "    if isinstance(X, pd.Series):\n",
        "      # Cálculo del rango intercuartil\n",
        "      q1 = X.quantile(0.25)\n",
        "      q3 = X.quantile(0.75)\n",
        "\n",
        "      ric = q3 - q1\n",
        "\n",
        "      # Cálculo de los límites\n",
        "      self.limite_inferior = q1 - self.lambda_ * ric\n",
        "      self.limite_superior = q3 + self.lambda_ * ric\n",
        "\n",
        "      self.multicolumn = False\n",
        "    \n",
        "    # Para el caso donde X es un DataFrame\n",
        "    elif isinstance(X, pd.DataFrame):\n",
        "      # Calcular límites independientes para cada columna\n",
        "      self.limites = {}\n",
        "      \n",
        "      for column in X.columns:\n",
        "          q1 = X[column].quantile(0.25)\n",
        "          q3 = X[column].quantile(0.75)\n",
        "          ric = q3 - q1\n",
        "          \n",
        "          self.limites[column] = {\n",
        "            'limite_inferior': q1 - self.lambda_ * ric,\n",
        "            'limite_superior': q3 + self.lambda_ * ric\n",
        "            }\n",
        "      \n",
        "      self.multicolumn = True\n",
        "      self.column_names = X.columns.tolist()\n",
        "\n",
        "    return self\n",
        "\n",
        "  def transform(self, X):\n",
        "    # Corroborar que se ajustó el transformador\n",
        "    if not hasattr(self, 'multicolumn'):\n",
        "      raise ValueError(\"El transformador debe ser ajustado antes de usar transform()\")\n",
        "\n",
        "    if isinstance(X, pd.Series):\n",
        "      # Filtrar outliers\n",
        "      X_filtered = X.copy().clip(self.limite_inferior, self.limite_superior)\n",
        "    \n",
        "    elif isinstance(X, pd.DataFrame):\n",
        "      # Filtrar outliers en todas las columnas\n",
        "      X_filtered = X.copy()\n",
        "      \n",
        "      for column in X.columns:\n",
        "          if column in self.limites:\n",
        "              limite_inf = self.limites[column]['limite_inferior']\n",
        "              limite_sup = self.limites[column]['limite_superior']\n",
        "              X_filtered[column] = X_filtered[column].clip(limite_inf, limite_sup)\n",
        "\n",
        "    return X_filtered\n",
        "\n",
        "  def set_output(self, transform='default'):\n",
        "    # No modificar esta función\n",
        "    return self"
      ]
    },
    {
      "cell_type": "markdown",
      "metadata": {
        "id": "Pse94ohOm1um"
      },
      "source": [
        "#### 2.2 Creación del Pipeline [0.5 puntos]"
      ]
    },
    {
      "cell_type": "markdown",
      "metadata": {
        "id": "JVWWiGA5m_Hj"
      },
      "source": [
        "Para comenzar introduciéndose en el uso de pipeline, usted decide definir un pipeline con el Transformer previamente definido. Además, usted decide visualizar cómo cambia la distribución de las variables Precio y Cantidad antes y despues de aplicar IQR. Para ello, usted aplica los siguientes pasos:\n",
        "\n",
        "- Definir un pipeline llamado `numeric_transformations` para las variables precio y cantidad con la transformación IQR. [0.1 puntos]\n",
        "- Defina un column transformer que aplique `numeric_transformations` para las variables numéricas y `passthrough` para las variables categóricas. Adicionalmente, fije el parámetro `verbose_feature_names_out` en `False`. Ver hint al final [0.1 puntos]\n",
        "- Defina el dataframe `df_iqr` aplicado el column transformer a los datos proporcionados por Mr. Cheems considerando un valor de $\\lambda$ que tenga un desempeño aceptable para ambas variables. [0.1 puntos]\n",
        "- Usar `explore_data` en `df_retail` y en `df_iqr`.  [0.1 puntos]\n",
        "- Reportar los cambios observados en la distribución de las variables. ¿Qué sucede al aumentar el valor de lambda? [0.1 puntos]\n",
        "\n",
        "\n",
        "**Hint:** El transformador `passthrough` está predefinido y es una opción que puedes usar para las columnas que no deseas transformar. Al especificar 'passthrough' para una parte de tu ColumnTransformer, las columnas correspondientes pasarán a través del ColumnTransformer sin ninguna modificación. El siguiente [enlace](https://scikit-learn.org/stable/modules/generated/sklearn.compose.ColumnTransformer.html) le puede ser útil.\n",
        "\n",
        "**Nota:** Mantenga el método set_output del column transformer con la transformación `pandas` para obtener un dataframe una vez aplicado el column transformer."
      ]
    },
    {
      "cell_type": "markdown",
      "metadata": {
        "id": "vkeizZcLuabD"
      },
      "source": [
        "**Respuesta:**"
      ]
    },
    {
      "cell_type": "markdown",
      "metadata": {
        "id": "LF24vWb4GwLo"
      },
      "source": [
        "Apóyese de la siguiente estructura para su respuesta:"
      ]
    },
    {
      "cell_type": "code",
      "execution_count": 24,
      "metadata": {},
      "outputs": [
        {
          "data": {
            "text/plain": [
              "['Quantity', 'Price']"
            ]
          },
          "execution_count": 24,
          "metadata": {},
          "output_type": "execute_result"
        }
      ],
      "source": [
        "df_retail.select_dtypes(include='number').columns.values.tolist()"
      ]
    },
    {
      "cell_type": "code",
      "execution_count": 25,
      "metadata": {
        "id": "ZaSuz2NSn7g6"
      },
      "outputs": [
        {
          "data": {
            "image/png": "[encoded data removed]",
            "text/plain": [
              "<Figure size 800x400 with 1 Axes>"
            ]
          },
          "metadata": {},
          "output_type": "display_data"
        },
        {
          "data": {
            "image/png": "[encoded data removed]",
            "text/plain": [
              "<Figure size 800x400 with 1 Axes>"
            ]
          },
          "metadata": {},
          "output_type": "display_data"
        },
        {
          "name": "stdout",
          "output_type": "stream",
          "text": [
            "conteo de nulos:\n",
            "Invoice           0\n",
            "StockCode         0\n",
            "Description       0\n",
            "Quantity       7915\n",
            "InvoiceDate    9308\n",
            "Price          8356\n",
            "Customer ID       0\n",
            "Country        8164\n",
            "dtype: int64\n"
          ]
        },
        {
          "data": {
            "image/png": "[encoded data removed]",
            "text/plain": [
              "<Figure size 800x400 with 1 Axes>"
            ]
          },
          "metadata": {},
          "output_type": "display_data"
        },
        {
          "data": {
            "image/png": "[encoded data removed]",
            "text/plain": [
              "<Figure size 800x400 with 1 Axes>"
            ]
          },
          "metadata": {},
          "output_type": "display_data"
        },
        {
          "name": "stdout",
          "output_type": "stream",
          "text": [
            "conteo de nulos:\n",
            "Quantity       7915\n",
            "Price          8356\n",
            "Invoice           0\n",
            "StockCode         0\n",
            "Description       0\n",
            "InvoiceDate    9308\n",
            "Customer ID       0\n",
            "Country        8164\n",
            "dtype: int64\n"
          ]
        }
      ],
      "source": [
        "# Definicion las variables que pasarán por cada pipeline\n",
        "numerical_columns = df_retail.select_dtypes(include='number').columns.values.tolist()\n",
        "categorical_columns = df_retail.select_dtypes(exclude='number').columns.values.tolist()\n",
        "\n",
        "# Definicion del pipeline\n",
        "numeric_transformations = Pipeline([\n",
        "    ('iqr', IQR(lambda_=1.5))\n",
        "    ])\n",
        "\n",
        "# ColumnTransformer\n",
        "column_transformer = ColumnTransformer([\n",
        "                    ('numerical',  numeric_transformations, numerical_columns),\n",
        "                    ('categorical', 'passthrough', categorical_columns)\n",
        "                    ],\n",
        "                    verbose_feature_names_out=False)\n",
        "\n",
        "column_transformer.set_output(transform='pandas')\n",
        "\n",
        "# Aplicamos ColumnTransformer a los datos\n",
        "df_iqr = column_transformer.fit_transform(df_retail)\n",
        "\n",
        "# Gráficos\n",
        "explore_data(df_retail)\n",
        "explore_data(df_iqr)\n",
        "\n",
        "#OPCIONAL\n",
        "dif = (df_retail[numerical_columns] != df_iqr[numerical_columns]).sum() # dif muestra cuántos valores cambiaron por columna\n",
        "\n",
        "before = df_retail[numerical_columns].describe() #Comparar estadísticas\n",
        "after  = df_iqr[numerical_columns].describe()\n"
      ]
    },
    {
      "cell_type": "markdown",
      "metadata": {
        "id": "yPKnc6UcsDkm"
      },
      "source": [
        "*Reporte los cambios observados aquí.*\n",
        "\n",
        "**Pendiente**"
      ]
    },
    {
      "cell_type": "markdown",
      "metadata": {
        "id": "MF5s4dqMYCbJ"
      },
      "source": [
        "### 3. Agregando un imputer al pipeline [1.0 puntos]\n",
        "\n"
      ]
    },
    {
      "cell_type": "markdown",
      "metadata": {
        "id": "2Bc9fFeXp-At"
      },
      "source": [
        "<p align=\"center\">\n",
        "  <img width=300 src=\"https://media.makeameme.org/created/hmm-there-is.jpg\">\n",
        "</p>"
      ]
    },
    {
      "cell_type": "markdown",
      "metadata": {
        "id": "uugEdc26vJ5N"
      },
      "source": [
        "Para continuar con la limpieza del dataframe usted decide imputar los datos nulos de las variables numéricas, para lo cual decide realizar las siguientes tareas:\n",
        "\n",
        "1. Crear un pipeline para variables categóricas llamado `categoric_transformations` con un paso llamado `mode_imputer`, en el cual se imputen los datos faltantes por la categoría más frecuente.\n",
        "2. Agregar al pipeline `numeric_transformations` un paso llamado `mean_imputer`, en el cual se imputen los datos por la media usando [SimpleImputer](https://scikit-learn.org/stable/modules/generated/sklearn.impute.SimpleImputer.html) [0.1 puntos]\n",
        "3. Crear y aplicar un `ColumnTransformer` actualizado con los pipelines `categoric_transformations` y `numeric_transformations` a `df_retail`, creando un dataframe llamado `df_mean_imputer`. [0.1 puntos]\n",
        "4. Comparar los resultados de `explore_data` en `df_mean_imputer` y `df_iqr`. ¿Qué diferencias observa en la distribución de los datos? [0.2 puntos]\n",
        "5. Cambiar el imputer de `numeric_transformations` por [KNNImputer](https://scikit-learn.org/stable/modules/generated/sklearn.impute.KNNImputer.html) y definir un nuevo dataframe llamado `df_knn_imputer`, aplicando el nuevo ColumnTransformer a `df_retail`. En caso de los tiempos de ejecución sean altos puede probar a reducir el parámetro `n_neighbors`. [0.1 puntos]\n",
        "6. Comparar los resultados de `explore_data` en `df_knn_imputer` y `df_iqr`. ¿Qué diferencias observa en la distribución de los datos? [0.2 puntos]\n",
        "7. Comparar los resultados de `explore_data` en `df_knn_imputer` y `df_mean_imputer`. ¿Cuál método de imputación es mejor? Deje el método escogido en el ColumnTransformer. [0.2 puntos]\n",
        "\n",
        "**Nota: Fije el parámetro verbose_feature_names_out en `False` y utilice el método set_output con transformación `pandas` en cada ColumnTransformer para obtener como salida un dataframe.**"
      ]
    },
    {
      "cell_type": "markdown",
      "metadata": {
        "id": "ACVUdZZxuo4o"
      },
      "source": [
        "**Respuesta:**"
      ]
    },
    {
      "cell_type": "code",
      "execution_count": 26,
      "metadata": {
        "id": "x8jgag-EYFai"
      },
      "outputs": [
        {
          "name": "stdout",
          "output_type": "stream",
          "text": [
            "\n",
            "[COMPARE] df_mean_imputer vs df_iqr\n"
          ]
        },
        {
          "data": {
            "image/png": "[encoded data removed]",
            "text/plain": [
              "<Figure size 800x400 with 1 Axes>"
            ]
          },
          "metadata": {},
          "output_type": "display_data"
        },
        {
          "data": {
            "image/png": "[encoded data removed]",
            "text/plain": [
              "<Figure size 800x400 with 1 Axes>"
            ]
          },
          "metadata": {},
          "output_type": "display_data"
        },
        {
          "name": "stdout",
          "output_type": "stream",
          "text": [
            "conteo de nulos:\n",
            "Quantity       0\n",
            "Price          0\n",
            "Invoice        0\n",
            "StockCode      0\n",
            "Description    0\n",
            "InvoiceDate    0\n",
            "Customer ID    0\n",
            "Country        0\n",
            "dtype: int64\n"
          ]
        },
        {
          "data": {
            "image/png": "[encoded data removed]",
            "text/plain": [
              "<Figure size 800x400 with 1 Axes>"
            ]
          },
          "metadata": {},
          "output_type": "display_data"
        },
        {
          "data": {
            "image/png": "[encoded data removed]",
            "text/plain": [
              "<Figure size 800x400 with 1 Axes>"
            ]
          },
          "metadata": {},
          "output_type": "display_data"
        },
        {
          "name": "stdout",
          "output_type": "stream",
          "text": [
            "conteo de nulos:\n",
            "Quantity       7915\n",
            "Price          8356\n",
            "Invoice           0\n",
            "StockCode         0\n",
            "Description       0\n",
            "InvoiceDate    9308\n",
            "Customer ID       0\n",
            "Country        8164\n",
            "dtype: int64\n",
            "\n",
            "[COMPARE] df_knn_imputer vs df_iqr\n"
          ]
        },
        {
          "data": {
            "image/png": "[encoded data removed]",
            "text/plain": [
              "<Figure size 800x400 with 1 Axes>"
            ]
          },
          "metadata": {},
          "output_type": "display_data"
        },
        {
          "data": {
            "image/png": "[encoded data removed]",
            "text/plain": [
              "<Figure size 800x400 with 1 Axes>"
            ]
          },
          "metadata": {},
          "output_type": "display_data"
        },
        {
          "name": "stdout",
          "output_type": "stream",
          "text": [
            "conteo de nulos:\n",
            "Quantity       0\n",
            "Price          0\n",
            "Invoice        0\n",
            "StockCode      0\n",
            "Description    0\n",
            "InvoiceDate    0\n",
            "Customer ID    0\n",
            "Country        0\n",
            "dtype: int64\n"
          ]
        },
        {
          "data": {
            "image/png": "[encoded data removed]",
            "text/plain": [
              "<Figure size 800x400 with 1 Axes>"
            ]
          },
          "metadata": {},
          "output_type": "display_data"
        },
        {
          "data": {
            "image/png": "[encoded data removed]",
            "text/plain": [
              "<Figure size 800x400 with 1 Axes>"
            ]
          },
          "metadata": {},
          "output_type": "display_data"
        },
        {
          "name": "stdout",
          "output_type": "stream",
          "text": [
            "conteo de nulos:\n",
            "Quantity       7915\n",
            "Price          8356\n",
            "Invoice           0\n",
            "StockCode         0\n",
            "Description       0\n",
            "InvoiceDate    9308\n",
            "Customer ID       0\n",
            "Country        8164\n",
            "dtype: int64\n",
            "\n",
            "[COMPARE] df_knn_imputer vs df_mean_imputer\n"
          ]
        },
        {
          "data": {
            "image/png": "[encoded data removed]",
            "text/plain": [
              "<Figure size 800x400 with 1 Axes>"
            ]
          },
          "metadata": {},
          "output_type": "display_data"
        },
        {
          "data": {
            "image/png": "[encoded data removed]",
            "text/plain": [
              "<Figure size 800x400 with 1 Axes>"
            ]
          },
          "metadata": {},
          "output_type": "display_data"
        },
        {
          "name": "stdout",
          "output_type": "stream",
          "text": [
            "conteo de nulos:\n",
            "Quantity       0\n",
            "Price          0\n",
            "Invoice        0\n",
            "StockCode      0\n",
            "Description    0\n",
            "InvoiceDate    0\n",
            "Customer ID    0\n",
            "Country        0\n",
            "dtype: int64\n"
          ]
        },
        {
          "data": {
            "image/png": "[encoded data removed]",
            "text/plain": [
              "<Figure size 800x400 with 1 Axes>"
            ]
          },
          "metadata": {},
          "output_type": "display_data"
        },
        {
          "data": {
            "image/png": "[encoded data removed]",
            "text/plain": [
              "<Figure size 800x400 with 1 Axes>"
            ]
          },
          "metadata": {},
          "output_type": "display_data"
        },
        {
          "name": "stdout",
          "output_type": "stream",
          "text": [
            "conteo de nulos:\n",
            "Quantity       0\n",
            "Price          0\n",
            "Invoice        0\n",
            "StockCode      0\n",
            "Description    0\n",
            "InvoiceDate    0\n",
            "Customer ID    0\n",
            "Country        0\n",
            "dtype: int64\n"
          ]
        }
      ],
      "source": [
        "# --- PUNTO 1: pipeline categórico con imputación por moda ---\n",
        "from sklearn.impute import SimpleImputer, KNNImputer\n",
        "from sklearn.pipeline import Pipeline\n",
        "from sklearn.compose import ColumnTransformer\n",
        "\n",
        "categoric_transformations = Pipeline([\n",
        "    ('mode_imputer', SimpleImputer(strategy='most_frequent'))\n",
        "])\n",
        "\n",
        "# --- PUNTO 2: agregar mean_imputer al pipeline numérico ---\n",
        "numeric_transformations_mean = Pipeline([\n",
        "    ('iqr', IQR(lambda_=1.5)),\n",
        "    ('mean_imputer', SimpleImputer(strategy='mean'))\n",
        "])\n",
        "\n",
        "# --- PUNTO 3: ColumnTransformer con ambos pipelines -> df_mean_imputer ---\n",
        "ct_mean = ColumnTransformer(\n",
        "    transformers=[\n",
        "        ('numerical',  numeric_transformations_mean, numerical_columns),\n",
        "        ('categorical', categoric_transformations,   categorical_columns),\n",
        "    ],\n",
        "    verbose_feature_names_out=False\n",
        ").set_output(transform='pandas')\n",
        "\n",
        "df_mean_imputer = ct_mean.fit_transform(df_retail)\n",
        "\n",
        "# --- PUNTO 4: comparar explore_data entre df_mean_imputer y df_iqr ---\n",
        "print(\"\\n[COMPARE] df_mean_imputer vs df_iqr\")\n",
        "explore_data(df_mean_imputer)\n",
        "explore_data(df_iqr)\n",
        "\n",
        "# --- PUNTO 5: cambiar a KNNImputer (con menos vecinos si es pesado) -> df_knn_imputer ---\n",
        "numeric_transformations_knn = Pipeline([\n",
        "    ('iqr', IQR(lambda_=1.5)),\n",
        "    ('knn_imputer', KNNImputer(n_neighbors=3))  # usa 3 para bajar tiempos si el dataset es grande\n",
        "])\n",
        "\n",
        "ct_knn = ColumnTransformer(\n",
        "    transformers=[\n",
        "        ('numerical',  numeric_transformations_knn, numerical_columns),\n",
        "        ('categorical', categoric_transformations,  categorical_columns),\n",
        "    ],\n",
        "    verbose_feature_names_out=False\n",
        ").set_output(transform='pandas')\n",
        "\n",
        "df_knn_imputer = ct_knn.fit_transform(df_retail)\n",
        "\n",
        "# --- PUNTO 6: comparar explore_data entre df_knn_imputer y df_iqr ---\n",
        "print(\"\\n[COMPARE] df_knn_imputer vs df_iqr\")\n",
        "explore_data(df_knn_imputer)\n",
        "explore_data(df_iqr)\n",
        "\n",
        "# --- PUNTO 7: comparar df_knn_imputer vs df_mean_imputer y dejar el método escogido ---\n",
        "print(\"\\n[COMPARE] df_knn_imputer vs df_mean_imputer\")\n",
        "explore_data(df_knn_imputer)\n",
        "explore_data(df_mean_imputer)\n",
        "\n",
        "# (opción tomada) Me quedo con KNNImputer por preservar mejor la estructura local.\n",
        "# Dejo ese método en el ColumnTransformer \"final\":\n",
        "column_transformer = ct_knn  # <- éste es el que queda para el resto del trabajo\n",
        "df_imputed = column_transformer.fit_transform(df_retail)  # por si necesitas la salida final\n"
      ]
    },
    {
      "cell_type": "markdown",
      "metadata": {
        "id": "9PfBHpAsvSuD"
      },
      "source": [
        "*Escriba su respuesta aquí*"
      ]
    },
    {
      "cell_type": "markdown",
      "metadata": {
        "id": "buuUiW-9YYZ3"
      },
      "source": [
        "### 4. Creación de nuevas features [2.0 puntos]"
      ]
    },
    {
      "cell_type": "markdown",
      "metadata": {
        "id": "RQSuoL5mubnA"
      },
      "source": [
        "<p align=\"center\">\n",
        "  <img width=250 src=\"https://miro.medium.com/max/1000/1*JtTWgAcfVTWV8OTjT47Atg.jpeg\">\n",
        "</p>\n"
      ]
    },
    {
      "cell_type": "markdown",
      "metadata": {
        "id": "4-yHP5oIvzFS"
      },
      "source": [
        "#### 4.1 Definicion de LRMFP [1.0 puntos]"
      ]
    },
    {
      "cell_type": "markdown",
      "metadata": {
        "id": "qe0V2CnZY8Bc"
      },
      "source": [
        "Dado que Mr. Lepin está interesado en obtener nuevos atributos relevantes para su negocio, su equipo de expertos sugiere la construcción de variables **LRMFP**, las que se construyen en base a las siguientes definiciones:\n",
        "\n",
        "- **Length (L)**: Intervalo de tiempo, en días, entre la primera y la última visita del cliente. Mientras mas grande sea el valor, mas fiel es el cliente.\n",
        "\n",
        "- **Recency (R)**: Indica hace cuanto tiempo el cliente realizo su ultima compra. Notar que para este caso, mientras mas grande es el valor, menos interes posee el usuario para repetir una compra en uno de los locales. **Considere \"hoy\" como la fecha mas reciente del dataset**.\n",
        "\n",
        "- **Monetary (M)**: El término \"monetario\" se refiere a la cantidad media de dinero gastada por cada visita del cliente durante el período de observación y refleja la contribución del cliente a los ingresos de la empresa.\n",
        "\n",
        "- **Frequency (F)**: Se refiere al número total de visitas del cliente durante el periodo de observación. Cuanto mayor sea la frecuencia, mayor será la fidelidad del cliente.\n",
        "\n",
        "- **Periodicity (P)**: Representa si los clientes visitan las tiendas con regularidad.\n",
        "\n",
        "$$Periodicity(n)=std(IVT_1, ..., IVT_n)$$\n",
        "\n",
        "Donde $IVT$ denota el tiempo entre visitas y n representa el número de valores de tiempo entre visitas de un cliente.\n",
        "\n",
        "\n",
        "$$IVT_i=date\\_diff(t_{i+1},t)$$\n",
        "\n",
        "En base a las definiciones señaladas, diseñe una función que permita obtener las características **LRMFP** recibiendo un DataFrame como entrada. Para esto, no estará permitido el uso de iteradores, utilice todas las herramientas que les ofrece `pandas` para realizar esto.\n",
        "\n",
        "Una referencia que le puede ser útil es el [documento original](https://www.researchgate.net/publication/315979555_LRFMP_model_for_customer_segmentation_in_the_grocery_retail_industry_a_case_study) en donde se propone este método."
      ]
    },
    {
      "cell_type": "markdown",
      "metadata": {
        "cell_id": "bee8d549c7c043a5b0cafae0543afadf",
        "deepnote_cell_height": 212.6666717529297,
        "deepnote_cell_type": "markdown",
        "id": "L7ZwWJxhXMfk",
        "tags": []
      },
      "source": [
        "**<u>Formato</u> del Resultado Esperado:**\n",
        "\n",
        "| Customer ID | Length | Recency | Frequency | Monetary | Periodicity |\n",
        "|------------:|-------:|--------:|----------:|---------:|------------:|\n",
        "|   12346.0   |    294 |      67 |        46 |   -64.68 |        37.0 |\n",
        "|   12347.0   |     37 |       3 |        71 |  1323.32 |         0.0 |\n",
        "|   12349.0   |    327 |      43 |       107 |  2646.99 |        78.0 |\n",
        "|   12352.0   |     16 |      11 |        18 |   343.80 |         0.0 |\n",
        "|   12356.0   |     44 |      16 |        84 |  3562.25 |        12.0 |"
      ]
    },
    {
      "cell_type": "markdown",
      "metadata": {
        "cell_id": "3c7f8a4a06a44cbd8d50e8a4decf4c71",
        "deepnote_cell_height": 52.26666259765625,
        "deepnote_cell_type": "markdown",
        "id": "6GaQZaMXXMfk",
        "tags": []
      },
      "source": [
        "**Respuesta:**"
      ]
    },
    {
      "cell_type": "code",
      "execution_count": 32,
      "metadata": {},
      "outputs": [
        {
          "data": {
            "text/html": [
              "<div>\n",
              "<style scoped>\n",
              "    .dataframe tbody tr th:only-of-type {\n",
              "        vertical-align: middle;\n",
              "    }\n",
              "\n",
              "    .dataframe tbody tr th {\n",
              "        vertical-align: top;\n",
              "    }\n",
              "\n",
              "    .dataframe thead th {\n",
              "        text-align: right;\n",
              "    }\n",
              "</style>\n",
              "<table border=\"1\" class=\"dataframe\">\n",
              "  <thead>\n",
              "    <tr style=\"text-align: right;\">\n",
              "      <th></th>\n",
              "      <th>Invoice</th>\n",
              "      <th>StockCode</th>\n",
              "      <th>Description</th>\n",
              "      <th>Quantity</th>\n",
              "      <th>InvoiceDate</th>\n",
              "      <th>Price</th>\n",
              "      <th>Customer ID</th>\n",
              "      <th>Country</th>\n",
              "    </tr>\n",
              "  </thead>\n",
              "  <tbody>\n",
              "    <tr>\n",
              "      <th>0</th>\n",
              "      <td>ID489434</td>\n",
              "      <td>85048</td>\n",
              "      <td>15CM CHRISTMAS GLASS BALL 20 LIGHTS</td>\n",
              "      <td>12.0</td>\n",
              "      <td>2009-12-01 07:45:00</td>\n",
              "      <td>6.95</td>\n",
              "      <td>13085.0</td>\n",
              "      <td>United Kingdom</td>\n",
              "    </tr>\n",
              "    <tr>\n",
              "      <th>1</th>\n",
              "      <td>ID489434</td>\n",
              "      <td>79323P</td>\n",
              "      <td>PINK CHERRY LIGHTS</td>\n",
              "      <td>12.0</td>\n",
              "      <td>NaT</td>\n",
              "      <td>6.75</td>\n",
              "      <td>13085.0</td>\n",
              "      <td>United Kingdom</td>\n",
              "    </tr>\n",
              "    <tr>\n",
              "      <th>2</th>\n",
              "      <td>ID489434</td>\n",
              "      <td>79323W</td>\n",
              "      <td>WHITE CHERRY LIGHTS</td>\n",
              "      <td>12.0</td>\n",
              "      <td>2009-12-01 07:45:00</td>\n",
              "      <td>6.75</td>\n",
              "      <td>13085.0</td>\n",
              "      <td>United Kingdom</td>\n",
              "    </tr>\n",
              "    <tr>\n",
              "      <th>3</th>\n",
              "      <td>ID489434</td>\n",
              "      <td>22041</td>\n",
              "      <td>RECORD FRAME 7\" SINGLE SIZE</td>\n",
              "      <td>48.0</td>\n",
              "      <td>2009-12-01 07:45:00</td>\n",
              "      <td>2.10</td>\n",
              "      <td>13085.0</td>\n",
              "      <td>United Kingdom</td>\n",
              "    </tr>\n",
              "    <tr>\n",
              "      <th>4</th>\n",
              "      <td>ID489434</td>\n",
              "      <td>21232</td>\n",
              "      <td>STRAWBERRY CERAMIC TRINKET BOX</td>\n",
              "      <td>24.0</td>\n",
              "      <td>2009-12-01 07:45:00</td>\n",
              "      <td>1.25</td>\n",
              "      <td>13085.0</td>\n",
              "      <td>United Kingdom</td>\n",
              "    </tr>\n",
              "    <tr>\n",
              "      <th>...</th>\n",
              "      <td>...</td>\n",
              "      <td>...</td>\n",
              "      <td>...</td>\n",
              "      <td>...</td>\n",
              "      <td>...</td>\n",
              "      <td>...</td>\n",
              "      <td>...</td>\n",
              "      <td>...</td>\n",
              "    </tr>\n",
              "    <tr>\n",
              "      <th>400942</th>\n",
              "      <td>ID538171</td>\n",
              "      <td>22271</td>\n",
              "      <td>FELTCRAFT DOLL ROSIE</td>\n",
              "      <td>2.0</td>\n",
              "      <td>2010-12-09 20:01:00</td>\n",
              "      <td>2.95</td>\n",
              "      <td>17530.0</td>\n",
              "      <td>United Kingdom</td>\n",
              "    </tr>\n",
              "    <tr>\n",
              "      <th>400943</th>\n",
              "      <td>ID538171</td>\n",
              "      <td>22750</td>\n",
              "      <td>FELTCRAFT PRINCESS LOLA DOLL</td>\n",
              "      <td>1.0</td>\n",
              "      <td>2010-12-09 20:01:00</td>\n",
              "      <td>3.75</td>\n",
              "      <td>17530.0</td>\n",
              "      <td>United Kingdom</td>\n",
              "    </tr>\n",
              "    <tr>\n",
              "      <th>400944</th>\n",
              "      <td>ID538171</td>\n",
              "      <td>22751</td>\n",
              "      <td>FELTCRAFT PRINCESS OLIVIA DOLL</td>\n",
              "      <td>1.0</td>\n",
              "      <td>2010-12-09 20:01:00</td>\n",
              "      <td>3.75</td>\n",
              "      <td>17530.0</td>\n",
              "      <td>United Kingdom</td>\n",
              "    </tr>\n",
              "    <tr>\n",
              "      <th>400945</th>\n",
              "      <td>ID538171</td>\n",
              "      <td>20970</td>\n",
              "      <td>PINK FLORAL FELTCRAFT SHOULDER BAG</td>\n",
              "      <td>NaN</td>\n",
              "      <td>2010-12-09 20:01:00</td>\n",
              "      <td>3.75</td>\n",
              "      <td>17530.0</td>\n",
              "      <td>United Kingdom</td>\n",
              "    </tr>\n",
              "    <tr>\n",
              "      <th>400946</th>\n",
              "      <td>ID538171</td>\n",
              "      <td>21931</td>\n",
              "      <td>JUMBO STORAGE BAG SUKI</td>\n",
              "      <td>2.0</td>\n",
              "      <td>2010-12-09 20:01:00</td>\n",
              "      <td>1.95</td>\n",
              "      <td>17530.0</td>\n",
              "      <td>United Kingdom</td>\n",
              "    </tr>\n",
              "  </tbody>\n",
              "</table>\n",
              "<p>400947 rows × 8 columns</p>\n",
              "</div>"
            ],
            "text/plain": [
              "         Invoice StockCode                          Description  Quantity  \\\n",
              "0       ID489434     85048  15CM CHRISTMAS GLASS BALL 20 LIGHTS      12.0   \n",
              "1       ID489434    79323P                   PINK CHERRY LIGHTS      12.0   \n",
              "2       ID489434    79323W                  WHITE CHERRY LIGHTS      12.0   \n",
              "3       ID489434     22041         RECORD FRAME 7\" SINGLE SIZE       48.0   \n",
              "4       ID489434     21232       STRAWBERRY CERAMIC TRINKET BOX      24.0   \n",
              "...          ...       ...                                  ...       ...   \n",
              "400942  ID538171     22271                 FELTCRAFT DOLL ROSIE       2.0   \n",
              "400943  ID538171     22750         FELTCRAFT PRINCESS LOLA DOLL       1.0   \n",
              "400944  ID538171     22751       FELTCRAFT PRINCESS OLIVIA DOLL       1.0   \n",
              "400945  ID538171     20970   PINK FLORAL FELTCRAFT SHOULDER BAG       NaN   \n",
              "400946  ID538171     21931               JUMBO STORAGE BAG SUKI       2.0   \n",
              "\n",
              "               InvoiceDate  Price Customer ID         Country  \n",
              "0      2009-12-01 07:45:00   6.95     13085.0  United Kingdom  \n",
              "1                      NaT   6.75     13085.0  United Kingdom  \n",
              "2      2009-12-01 07:45:00   6.75     13085.0  United Kingdom  \n",
              "3      2009-12-01 07:45:00   2.10     13085.0  United Kingdom  \n",
              "4      2009-12-01 07:45:00   1.25     13085.0  United Kingdom  \n",
              "...                    ...    ...         ...             ...  \n",
              "400942 2010-12-09 20:01:00   2.95     17530.0  United Kingdom  \n",
              "400943 2010-12-09 20:01:00   3.75     17530.0  United Kingdom  \n",
              "400944 2010-12-09 20:01:00   3.75     17530.0  United Kingdom  \n",
              "400945 2010-12-09 20:01:00   3.75     17530.0  United Kingdom  \n",
              "400946 2010-12-09 20:01:00   1.95     17530.0  United Kingdom  \n",
              "\n",
              "[400947 rows x 8 columns]"
            ]
          },
          "execution_count": 32,
          "metadata": {},
          "output_type": "execute_result"
        }
      ],
      "source": [
        "df_retail"
      ]
    },
    {
      "cell_type": "code",
      "execution_count": 34,
      "metadata": {
        "cell_id": "39a8b98eacdc43a4bdfeaa138b746198",
        "deepnote_cell_height": 83.86666870117188,
        "deepnote_cell_type": "code",
        "id": "VsgqgqsjXMfl",
        "owner_user_id": "8c58f50a-7a08-41a2-952e-38bdb7507048",
        "tags": []
      },
      "outputs": [
        {
          "name": "stdout",
          "output_type": "stream",
          "text": [
            "Tabla LRMFP (formato esperado):\n"
          ]
        },
        {
          "data": {
            "text/html": [
              "<div>\n",
              "<style scoped>\n",
              "    .dataframe tbody tr th:only-of-type {\n",
              "        vertical-align: middle;\n",
              "    }\n",
              "\n",
              "    .dataframe tbody tr th {\n",
              "        vertical-align: top;\n",
              "    }\n",
              "\n",
              "    .dataframe thead th {\n",
              "        text-align: right;\n",
              "    }\n",
              "</style>\n",
              "<table border=\"1\" class=\"dataframe\">\n",
              "  <thead>\n",
              "    <tr style=\"text-align: right;\">\n",
              "      <th></th>\n",
              "      <th>Customer ID</th>\n",
              "      <th>Length</th>\n",
              "      <th>Recency</th>\n",
              "      <th>Frequency</th>\n",
              "      <th>Monetary</th>\n",
              "      <th>Periodicity</th>\n",
              "    </tr>\n",
              "  </thead>\n",
              "  <tbody>\n",
              "    <tr>\n",
              "      <th>0</th>\n",
              "      <td>12346.0</td>\n",
              "      <td>196</td>\n",
              "      <td>163</td>\n",
              "      <td>11</td>\n",
              "      <td>33.22</td>\n",
              "      <td>34.8</td>\n",
              "    </tr>\n",
              "    <tr>\n",
              "      <th>1</th>\n",
              "      <td>12347.0</td>\n",
              "      <td>37</td>\n",
              "      <td>1</td>\n",
              "      <td>2</td>\n",
              "      <td>613.93</td>\n",
              "      <td>0.0</td>\n",
              "    </tr>\n",
              "    <tr>\n",
              "      <th>2</th>\n",
              "      <td>12348.0</td>\n",
              "      <td>0</td>\n",
              "      <td>72</td>\n",
              "      <td>1</td>\n",
              "      <td>222.16</td>\n",
              "      <td>0.0</td>\n",
              "    </tr>\n",
              "    <tr>\n",
              "      <th>3</th>\n",
              "      <td>12349.0</td>\n",
              "      <td>181</td>\n",
              "      <td>41</td>\n",
              "      <td>3</td>\n",
              "      <td>875.53</td>\n",
              "      <td>72.0</td>\n",
              "    </tr>\n",
              "    <tr>\n",
              "      <th>4</th>\n",
              "      <td>12351.0</td>\n",
              "      <td>0</td>\n",
              "      <td>9</td>\n",
              "      <td>1</td>\n",
              "      <td>300.93</td>\n",
              "      <td>0.0</td>\n",
              "    </tr>\n",
              "    <tr>\n",
              "      <th>5</th>\n",
              "      <td>12352.0</td>\n",
              "      <td>16</td>\n",
              "      <td>9</td>\n",
              "      <td>2</td>\n",
              "      <td>156.90</td>\n",
              "      <td>0.0</td>\n",
              "    </tr>\n",
              "    <tr>\n",
              "      <th>6</th>\n",
              "      <td>12353.0</td>\n",
              "      <td>0</td>\n",
              "      <td>42</td>\n",
              "      <td>1</td>\n",
              "      <td>307.86</td>\n",
              "      <td>0.0</td>\n",
              "    </tr>\n",
              "    <tr>\n",
              "      <th>7</th>\n",
              "      <td>12355.0</td>\n",
              "      <td>0</td>\n",
              "      <td>201</td>\n",
              "      <td>1</td>\n",
              "      <td>463.37</td>\n",
              "      <td>0.0</td>\n",
              "    </tr>\n",
              "    <tr>\n",
              "      <th>8</th>\n",
              "      <td>12356.0</td>\n",
              "      <td>44</td>\n",
              "      <td>14</td>\n",
              "      <td>3</td>\n",
              "      <td>1155.28</td>\n",
              "      <td>9.5</td>\n",
              "    </tr>\n",
              "    <tr>\n",
              "      <th>9</th>\n",
              "      <td>12357.0</td>\n",
              "      <td>0</td>\n",
              "      <td>22</td>\n",
              "      <td>2</td>\n",
              "      <td>5774.78</td>\n",
              "      <td>0.0</td>\n",
              "    </tr>\n",
              "  </tbody>\n",
              "</table>\n",
              "</div>"
            ],
            "text/plain": [
              "  Customer ID  Length  Recency  Frequency  Monetary  Periodicity\n",
              "0     12346.0     196      163         11     33.22         34.8\n",
              "1     12347.0      37        1          2    613.93          0.0\n",
              "2     12348.0       0       72          1    222.16          0.0\n",
              "3     12349.0     181       41          3    875.53         72.0\n",
              "4     12351.0       0        9          1    300.93          0.0\n",
              "5     12352.0      16        9          2    156.90          0.0\n",
              "6     12353.0       0       42          1    307.86          0.0\n",
              "7     12355.0       0      201          1    463.37          0.0\n",
              "8     12356.0      44       14          3   1155.28          9.5\n",
              "9     12357.0       0       22          2   5774.78          0.0"
            ]
          },
          "metadata": {},
          "output_type": "display_data"
        }
      ],
      "source": [
        "import pandas as pd\n",
        "\n",
        "# ---------- util para resolver sinónimos ----------\n",
        "def _resolve_col(cols, synonyms, required=True):\n",
        "    by_lower = {c.lower(): c for c in cols}\n",
        "    for s in synonyms:\n",
        "        if s.lower() in by_lower:\n",
        "            return by_lower[s.lower()]\n",
        "    if required:\n",
        "        raise ValueError(f\"No se encontró ninguna de estas columnas: {synonyms}\")\n",
        "    return None\n",
        "\n",
        "def custom_features(dataframe_in):\n",
        "    \"\"\"\n",
        "    Devuelve un DataFrame con columnas:\n",
        "    [Customer ID, Length, Recency, Frequency, Monetary, Periodicity]\n",
        "    Funciona con tu esquema: Invoice, Quantity, Price, InvoiceDate, Customer ID.\n",
        "    Detecta sinónimos y evita el bug de groupby+agg.\n",
        "    \"\"\"\n",
        "    df = dataframe_in.copy()\n",
        "\n",
        "    # --- detectar columnas en tu DF (según tu screenshot) ---\n",
        "    cust_col  = _resolve_col(df.columns, [\"Customer ID\", \"CustomerID\", \"Customer_Id\"])\n",
        "    date_col  = _resolve_col(df.columns, [\"InvoiceDate\", \"Date\"])\n",
        "    visit_col = _resolve_col(df.columns, [\"Invoice\", \"InvoiceNo\", \"OrderID\"], required=False)  # puede no existir\n",
        "    qty_col   = _resolve_col(df.columns, [\"Quantity\", \"Qty\"])\n",
        "    price_col = _resolve_col(df.columns, [\"TotalPrice\", \"Price\", \"UnitPrice\"])  # cualquiera\n",
        "\n",
        "    # --- asegurar monto TotalPrice ---\n",
        "    if \"totalprice\" not in [c.lower() for c in df.columns]:\n",
        "        if price_col.lower() in (\"price\", \"unitprice\"):\n",
        "            df[\"TotalPrice\"] = df[qty_col].astype(float) * df[price_col].astype(float)\n",
        "        else:\n",
        "            df.rename(columns={price_col: \"TotalPrice\"}, inplace=True)\n",
        "    amount_col = \"TotalPrice\"\n",
        "\n",
        "    # --- fechas limpias ---\n",
        "    df[date_col] = pd.to_datetime(df[date_col], errors=\"coerce\")\n",
        "    df = df.dropna(subset=[date_col])\n",
        "\n",
        "    # \"hoy\" = fecha más reciente del dataset\n",
        "    today = df[date_col].max().normalize()\n",
        "\n",
        "    # ========== construir tabla de VISITAS ==========\n",
        "    if visit_col is None:\n",
        "        # visita = (cliente, día)\n",
        "        visits = (\n",
        "            df.assign(_visit_date=df[date_col].dt.normalize())\n",
        "              .groupby([cust_col, \"_visit_date\"], observed=True, as_index=False)[amount_col]\n",
        "              .sum()\n",
        "              .rename(columns={amount_col: \"visit_amount\"})\n",
        "        )\n",
        "    else:\n",
        "        # visita = (cliente, invoice). Hacemos agregaciones por separado para evitar el bug.\n",
        "        base = df[[cust_col, visit_col, date_col, amount_col]].copy()\n",
        "        dates = (base.groupby([cust_col, visit_col], observed=True, as_index=False)[date_col]\n",
        "                      .min()\n",
        "                      .rename(columns={date_col: \"_visit_date\"}))\n",
        "        amounts = (base.groupby([cust_col, visit_col], observed=True, as_index=False)[amount_col]\n",
        "                        .sum()\n",
        "                        .rename(columns={amount_col: \"visit_amount\"}))\n",
        "        visits = pd.merge(dates, amounts, on=[cust_col, visit_col], how=\"inner\")\n",
        "\n",
        "    # ========== métricas L, R, M, F, P por cliente ==========\n",
        "    grp = visits.groupby(cust_col, observed=True)\n",
        "\n",
        "    length = (grp[\"_visit_date\"].max() - grp[\"_visit_date\"].min()).dt.days.rename(\"Length\")\n",
        "    recency = (today - grp[\"_visit_date\"].max()).dt.days.rename(\"Recency\")\n",
        "    frequency = grp.size().rename(\"Frequency\")\n",
        "    monetary = grp[\"visit_amount\"].mean().rename(\"Monetary\")\n",
        "    periodicity = (\n",
        "        grp[\"_visit_date\"]\n",
        "        .apply(lambda s: s.sort_values().diff().dt.days.std(ddof=0))\n",
        "        .fillna(0.0)\n",
        "        .rename(\"Periodicity\")\n",
        "    )\n",
        "\n",
        "    out = (\n",
        "        pd.concat([length, recency, frequency, monetary, periodicity], axis=1)\n",
        "          .reset_index()\n",
        "          [[cust_col, \"Length\", \"Recency\", \"Frequency\", \"Monetary\", \"Periodicity\"]]\n",
        "          .sort_values(cust_col)\n",
        "          .reset_index(drop=True)\n",
        "    )\n",
        "    return out\n",
        "\n",
        "# ========================\n",
        "# EJECUCIÓN Y VISUALIZACIÓN\n",
        "# ========================\n",
        "df_lrmfp = custom_features(df_retail)\n",
        "\n",
        "# Formato como en el enunciado\n",
        "df_lrmfp[\"Monetary\"] = df_lrmfp[\"Monetary\"].round(2)\n",
        "df_lrmfp[\"Periodicity\"] = df_lrmfp[\"Periodicity\"].round(1)\n",
        "\n",
        "print(\"Tabla LRMFP (formato esperado):\")\n",
        "display(df_lrmfp.head(10))\n"
      ]
    },
    {
      "cell_type": "markdown",
      "metadata": {
        "id": "1ddL8wThv36t"
      },
      "source": [
        "#### 4.2 Agregando las custom features [1.0 puntos]"
      ]
    },
    {
      "cell_type": "markdown",
      "metadata": {
        "id": "ehLWiQzjwDm-"
      },
      "source": [
        "Ahora, usted decide agregar al pipeline las nuevas variables creadas, para lo cual realiza las siguientes tareas:\n",
        "\n",
        "1. Cree un nuevo pipeline llamado `retail_pipeline` que encapsule el ColumnTransformer y calcule las LRMFP. El primer paso del pipeline llámelo  `col_tranformer` y el segundo paso llámelo `custom_features`, incorpora las nuevas variables al dataframe. Hint: les puede ser útil investigar [este](https://scikit-learn.org/stable/modules/generated/sklearn.preprocessing.FunctionTransformer.html) método. [0.1 puntos]\n",
        "2. Aplicar el pipeline actualizado a los datos proporcionados por Mr. Cheems, creando un nuevo dataframe llamado `df_custom`. [0.1 puntos]\n",
        "3. Explorar la distribución de las nuevas variables con `explore_data` y comentar brevemente (2-3 líneas) características de cada custom feature. [0.5 puntos]\n",
        "5. Entregar un insight para el negocio en base a las nuevas variables. [0.3 puntos]\n",
        "\n",
        "**Nota:** Recuerde fijar el parámetro `verbose_feature_names_out` en `False` e incorporar el método `set_output` para obtener una salida en formato dataframe del ColumnTransformer."
      ]
    },
    {
      "cell_type": "markdown",
      "metadata": {
        "id": "HVCGxPgtwFsk"
      },
      "source": [
        "**Respuesta**"
      ]
    },
    {
      "cell_type": "code",
      "execution_count": null,
      "metadata": {},
      "outputs": [],
      "source": []
    },
    {
      "cell_type": "markdown",
      "metadata": {
        "id": "qOV0y-e_lS39"
      },
      "source": [
        "### 5. MinMax Scaler [1.0 puntos]"
      ]
    },
    {
      "cell_type": "markdown",
      "metadata": {
        "id": "T55ZgReXvjGe"
      },
      "source": [
        "<p align=\"center\">\n",
        "  <img width=300 src=\"https://i.imgflip.com/1fsprn.jpg\">\n",
        "</p>\n"
      ]
    },
    {
      "cell_type": "markdown",
      "metadata": {
        "id": "4dk2R1kvuu-e"
      },
      "source": [
        "#### 5.1 Definición del Column Transformer [0.5 puntos]"
      ]
    },
    {
      "cell_type": "markdown",
      "metadata": {
        "cell_id": "94c48775ecb4496d970fbd920f65c126",
        "deepnote_cell_height": 268.70001220703125,
        "deepnote_cell_type": "markdown",
        "id": "iWsfp1dKXMfo",
        "tags": []
      },
      "source": [
        "Construya una clase llamada `MinMax()` para realizar una transformación de cada una de las columnas de un DataFrame utilizando `ColumnTransformer()`. Recuerde  usar `BaseEstimator` y `TransformerMixin`.\n",
        "\n",
        "\n",
        " Para esto considere que Min-Max escaler queda dada por la ecuación:\n",
        "\n",
        "$$MinMax = \\dfrac{x-min(x)}{max(x) - min(x)}$$\n",
        "\n",
        "\n",
        "Consulte el siguiente [link](https://sklearn-template.readthedocs.io/en/latest/user_guide.html#transformer) si tiene dudas sobre la creación de custom transformers."
      ]
    },
    {
      "cell_type": "markdown",
      "metadata": {
        "cell_id": "c087d1fa8aa94d7485fe1292bf628660",
        "deepnote_cell_height": 52.26666259765625,
        "deepnote_cell_type": "markdown",
        "id": "MUOLTWPDXMfo",
        "tags": []
      },
      "source": [
        "**Respuesta:**"
      ]
    },
    {
      "cell_type": "code",
      "execution_count": null,
      "metadata": {
        "cell_id": "07cb4dcf097c4c6baabb9ae2bda25caf",
        "deepnote_cell_height": 83.86666870117188,
        "deepnote_cell_type": "code",
        "id": "g15ZMCs-XMfo",
        "tags": []
      },
      "outputs": [],
      "source": [
        "class MinMax(BaseEstimator, TransformerMixin):\n",
        "\n",
        "    def fit(self,X):\n",
        "        #Agregar código aquí\n",
        "        pass\n",
        "\n",
        "    def transform(self,X):\n",
        "        #Agregar código aquí\n",
        "        pass\n",
        "\n",
        "    def set_output(self,transform='default'):\n",
        "        #No modificar este método\n",
        "        return self\n",
        "\n"
      ]
    },
    {
      "cell_type": "markdown",
      "metadata": {
        "id": "RySqWq1Muzp8"
      },
      "source": [
        "#### 5.2 Incorporando MinMax al pipeline [0.5 puntos]"
      ]
    },
    {
      "cell_type": "markdown",
      "metadata": {
        "id": "zmIqjkgDwRsV"
      },
      "source": [
        "Ahora, usted decide agregar el escalamiento al pipeline, para lo que decide seguir los siguientes pasos:\n",
        "\n",
        "- Agregar el paso `minmax` al pipeline `numeric_transformations`, haciendo uso de la clase creada. [0.1 puntos]\n",
        "- Defina el dataframe `df_minmax` aplicando el ColumnTransformer actualizado a los datos proporcionados por Mr. Cheems. [0.1 puntos]\n",
        "- Usar `explore_data` en `df_retail` y en `df_minmax`. [0.1 puntos]\n",
        "- Reportar los cambios observados en la distribución de las variables.  [0.2 puntos]\n",
        "\n",
        "**Nota:** Recuerde fijar el parámetro `verbose_feature_names_out` en `False` e incorporar el método `set_output` para obtener una salida en formato dataframe del ColumnTransformer."
      ]
    },
    {
      "cell_type": "markdown",
      "metadata": {
        "cell_id": "a480355952a34b6cb7e72afa764091d6",
        "deepnote_cell_height": 52.26666259765625,
        "deepnote_cell_type": "markdown",
        "id": "lL2_CyAGXMfp",
        "tags": []
      },
      "source": [
        "**Respuesta:**"
      ]
    },
    {
      "cell_type": "code",
      "execution_count": null,
      "metadata": {
        "cell_id": "1889976b7a4c40c7825752979b577567",
        "deepnote_cell_height": 65.86666870117188,
        "deepnote_cell_type": "code",
        "id": "NmApXgB8XMfp",
        "tags": []
      },
      "outputs": [],
      "source": []
    },
    {
      "cell_type": "markdown",
      "metadata": {
        "id": "iWXlAO8-wfNt"
      },
      "source": [
        "### 6. Pregunta teórica [0.5 puntos]"
      ]
    },
    {
      "cell_type": "markdown",
      "metadata": {
        "id": "JvsFRwpVtMh_"
      },
      "source": [
        "<p align=\"center\">\n",
        "  <img width=300 src=\"https://file.coinexstatic.com/2023-09-19/166BAC031F222E5910954E7D7D0BC844.png\">\n",
        "</p>"
      ]
    },
    {
      "cell_type": "markdown",
      "metadata": {
        "id": "Ou7lQIAHwiZv"
      },
      "source": [
        "Finalmente, explíquele a Mr. Cheems porqué es útil la creación de pipelines al momento de hacer Feature Engineering en Machine Learning."
      ]
    },
    {
      "cell_type": "markdown",
      "metadata": {
        "id": "29QJyzOCwjdD"
      },
      "source": [
        "**Respuesta:**"
      ]
    },
    {
      "cell_type": "markdown",
      "metadata": {
        "id": "YMDYYL1stUVO"
      },
      "source": [
        "*Escriba su respuesta aquí*"
      ]
    }
  ],
  "metadata": {
    "colab": {
      "collapsed_sections": [
        "wrG4gYabzAHs",
        "MhISwri4zAHy",
        "QDwIXTh7bK_A",
        "Q6nm_0uWvrFv",
        "F4ZY_N0Ad1GP",
        "ECqH4t-Jvj05",
        "Pse94ohOm1um",
        "MF5s4dqMYCbJ",
        "buuUiW-9YYZ3",
        "1ddL8wThv36t",
        "qOV0y-e_lS39",
        "4dk2R1kvuu-e",
        "RySqWq1Muzp8",
        "iWXlAO8-wfNt"
      ],
      "provenance": []
    },
    "deepnote_execution_queue": [],
    "deepnote_notebook_id": "33c253a4f84d40a091bd5023e95abb64",
    "kernelspec": {
      "display_name": "Python 3",
      "language": "python",
      "name": "python3"
    },
    "language_info": {
      "codemirror_mode": {
        "name": "ipython",
        "version": 3
      },
      "file_extension": ".py",
      "mimetype": "text/x-python",
      "name": "python",
      "nbconvert_exporter": "python",
      "pygments_lexer": "ipython3",
      "version": "3.11.13"
    }
  },
  "nbformat": 4,
  "nbformat_minor": 0
}

{
  "cells": [
    {
      "cell_type": "markdown",
      "metadata": {
        "cell_id": "8dd9b572c805487a9fb430fdc4ab12bb",
        "deepnote_cell_height": 156.26666259765625,
        "deepnote_cell_type": "markdown",
        "id": "XUZ1dFPHzAHl"
      },
      "source": [
        "<h1><center>Laboratorio 3: La desperación de Mr. Cheems 🐼</center></h1>\n",
        "\n",
        "<center><strong>MDS7202: Laboratorio de Programación Científica para Ciencia de Datos - Primavera 2025</strong></center>"
      ]
    },
    {
      "cell_type": "markdown",
      "metadata": {
        "cell_id": "d65413cd8566460dbceffcd13ca236e7",
        "deepnote_cell_type": "markdown",
        "id": "UD8X1uhGzAHq"
      },
      "source": [
        "### Cuerpo Docente:\n",
        "\n",
        "- Profesores: Diego Cortez, Gabriel Iturra\n",
        "- Auxiliares: Melanie Peña, Valentina Rojas\n",
        "- Ayudantes: Nicolás Cabello, Cristopher Urbina"
      ]
    },
    {
      "cell_type": "markdown",
      "metadata": {
        "cell_id": "8e9217d02d124830a9b86046600a1605",
        "deepnote_cell_height": 172.13333129882812,
        "deepnote_cell_type": "markdown",
        "id": "tXflExjqzAHr"
      },
      "source": [
        "### Equipo: SUPER IMPORTANTE - notebooks sin nombre no serán revisados\n",
        "\n",
        "- Nombre de alumno 1: María Jesús Valenzuela\n",
        "- Nombre de alumno 2: Matías Zúñiga\n"
      ]
    },
    {
      "cell_type": "markdown",
      "metadata": {
        "cell_id": "010402b6d5f743b885a80d2e1c6ae11a",
        "deepnote_cell_height": 62.19999694824219,
        "deepnote_cell_type": "markdown",
        "id": "AD-V0bbZzAHr"
      },
      "source": [
        "### **Link de repositorio de GitHub:** [Repositorio](https://github.com/jesuvalenzuela/NanSquad)"
      ]
    },
    {
      "cell_type": "markdown",
      "metadata": {
        "cell_id": "ef0224c7a99e4b718b55493b0a1e99c4",
        "deepnote_cell_height": 724.9000244140625,
        "deepnote_cell_type": "markdown",
        "id": "6uBLPj1PzAHs"
      },
      "source": [
        "## Temas a tratar\n",
        "- Aplicar Pandas para obtener características de un DataFrame.\n",
        "- Aplicar Pipelines y Column Transformers\n",
        "\n",
        "## Reglas:\n",
        "\n",
        "- **Grupos de 2 personas**\n",
        "- Fecha de entrega: Entregas Martes a las 23:59.\n",
        "- Instrucciones del lab el viernes a las 16:15 en formato online. Asistencia no es obligatoria, pero se recomienda **fuertemente** asistir.\n",
        "- <u>Prohibidas las copias</u>. Cualquier intento de copia será debidamente penalizado con el reglamento de la escuela.\n",
        "- Tienen que subir el laboratorio a u-cursos y a su repositorio de github. Labs que no estén en u-cursos no serán revisados. Recuerden que el repositorio también tiene nota.\n",
        "- Cualquier duda fuera del horario de clases al foro. Mensajes al equipo docente serán respondidos por este medio.\n",
        "- Pueden usar cualquier material del curso que estimen conveniente.\n",
        "\n",
        "### Objetivos principales del laboratorio\n",
        "- Comprender cómo aplicar pipelines de Scikit-Learn para generar procesos más limpios en Feature Engineering.\n",
        "\n",
        "El laboratorio deberá ser desarrollado sin el uso indiscriminado de iteradores nativos de python (aka \"for\", \"while\"). La idea es que aprendan a exprimir al máximo las funciones optimizadas que nos entrega `numpy`, las cuales vale mencionar, son bastante más eficientes que los iteradores nativos sobre arreglos (*o tensores*)."
      ]
    },
    {
      "cell_type": "markdown",
      "metadata": {
        "cell_id": "59664481c26f4ac4a753765269b1db6a",
        "deepnote_cell_height": 69.86666870117188,
        "deepnote_cell_type": "markdown",
        "id": "wrG4gYabzAHs"
      },
      "source": [
        "## Descripción del laboratorio."
      ]
    },
    {
      "cell_type": "markdown",
      "metadata": {
        "cell_id": "8c7bf8ea553d44c7a2efd61106a0bac2",
        "deepnote_cell_height": 61.866668701171875,
        "deepnote_cell_type": "markdown",
        "id": "MhISwri4zAHy"
      },
      "source": [
        "### Importamos librerias utiles 😸"
      ]
    },
    {
      "cell_type": "code",
      "execution_count": null,
      "metadata": {
        "ExecuteTime": {
          "end_time": "2021-03-29T00:08:16.884674Z",
          "start_time": "2021-03-29T00:08:16.349846Z"
        },
        "cell_id": "67b4b29f0e6b48719b58d579276f2b19",
        "deepnote_cell_height": 514.13330078125,
        "deepnote_cell_type": "code",
        "deepnote_to_be_reexecuted": false,
        "execution_millis": 8517,
        "execution_start": 1635469788590,
        "id": "uyc33dKdzAHy",
        "source_hash": "a3741fd5"
      },
      "outputs": [],
      "source": [
        "# Libreria Core del lab.\n",
        "import numpy as np\n",
        "import pandas as pd\n",
        "import datetime\n",
        "from IPython.display import HTML\n",
        "\n",
        "# Libreria para plotear (En colab esta desactualizado plotly)\n",
        "!pip install --upgrade plotly\n",
        "import plotly.express as px\n",
        "import plotly.graph_objects as go\n",
        "\n",
        "# Librerias utiles\n",
        "from sklearn.base import BaseEstimator, TransformerMixin\n",
        "from sklearn.pipeline import Pipeline\n",
        "from sklearn.compose import ColumnTransformer\n",
        "from sklearn.preprocessing import FunctionTransformer"
      ]
    },
    {
      "cell_type": "code",
      "execution_count": null,
      "metadata": {
        "cell_id": "ce6a19ec6fc6486e832760ac3740d7ef",
        "deepnote_cell_height": 219.46665954589844,
        "deepnote_cell_type": "code",
        "deepnote_to_be_reexecuted": false,
        "execution_millis": 7,
        "execution_start": 1635165625274,
        "id": "gQ0-zPV4NNrq",
        "outputId": "a7c33afa-37fe-4965-de1a-53b8994c8c07",
        "source_hash": "c60dc4a7"
      },
      "outputs": [
        {
          "name": "stdout",
          "output_type": "stream",
          "text": [
            "Ignorando conexión drive-colab\n"
          ]
        }
      ],
      "source": [
        "# Si usted está utilizando Colabolatory le puede ser útil este código para cargar los archivos.\n",
        "try:\n",
        "    from google.colab import drive\n",
        "    drive.mount(\"/content/drive\")\n",
        "    path = 'Dirección donde tiene los archivos en el Drive'\n",
        "except:\n",
        "    print('Ignorando conexión drive-colab')"
      ]
    },
    {
      "cell_type": "markdown",
      "metadata": {
        "cell_id": "28c7a8b483d84878ac5a4f7ba882b711",
        "deepnote_cell_height": 133.86666870117188,
        "deepnote_cell_type": "markdown",
        "id": "QDwIXTh7bK_A",
        "owner_user_id": "badcc427-fd3d-4615-9296-faa43ec69cfb"
      },
      "source": [
        "# Feature engineering en datos de retail 🛍️"
      ]
    },
    {
      "cell_type": "markdown",
      "metadata": {
        "cell_id": "160bb2695f6547448bfb0f99420f952c",
        "deepnote_cell_height": 69.86666870117188,
        "deepnote_cell_type": "markdown",
        "id": "_Eu4qBqnXMff",
        "tags": []
      },
      "source": [
        "### 0. Cargar Dataset"
      ]
    },
    {
      "cell_type": "markdown",
      "metadata": {
        "cell_id": "6c6799ecc9e74272922d46a3b5a8b79e",
        "deepnote_cell_height": 294.683349609375,
        "deepnote_cell_type": "markdown",
        "id": "4shIzqqwXMfe",
        "tags": []
      },
      "source": [
        "<p align=\"center\">\n",
        "  <img width=300 src=\"https://s1.eestatic.com/2018/04/14/social/la_jungla_-_social_299733421_73842361_854x640.jpg\">\n",
        "</p>"
      ]
    },
    {
      "cell_type": "markdown",
      "metadata": {
        "cell_id": "48d29c89e3b6455083f8fac764f97f3b",
        "deepnote_cell_height": 475.066650390625,
        "deepnote_cell_type": "markdown",
        "id": "cDpKjYRCXMfg",
        "tags": []
      },
      "source": [
        "Mr. Cheems, gerente de una cotizada tienda de retail en Europa, les solicita si pueden analizar los datos de algunas de sus tiendas. En una reunión, Mr Cheems le comenta que la calidad de sus datos no es muy buena, por lo que le solicita a usted que limpie su base de datos y cree nuevos atributos relevantes para el negocio.\n",
        "\n",
        "Por ello, el área de ventas les entrega archivo llamado `online_retail_data.pickle` el cual usted decide cargar a continuación."
      ]
    },
    {
      "cell_type": "code",
      "execution_count": null,
      "metadata": {
        "cell_id": "4d7d0f0855744e6c9d5a2198e5dcd690",
        "colab": {
          "base_uri": "https://localhost:8080/",
          "height": 204
        },
        "deepnote_cell_height": 489.79998779296875,
        "deepnote_cell_type": "code",
        "deepnote_output_heights": [
          177
        ],
        "deepnote_to_be_reexecuted": false,
        "execution_millis": 466,
        "execution_start": 1635469797118,
        "id": "7FNOu-CvjV5m",
        "outputId": "90b4f92c-71df-44d4-8084-4dd06a6179e4",
        "source_hash": "d52b246c"
      },
      "outputs": [
        {
          "data": {
            "application/vnd.deepnote.dataframe.v2+json": {
              "column_count": 8,
              "columns": [
                {
                  "dtype": "category",
                  "name": "Invoice",
                  "stats": {
                    "categories": [
                      {
                        "count": 5,
                        "name": "489434"
                      }
                    ],
                    "nan_count": 0,
                    "unique_count": 1
                  }
                },
                {
                  "dtype": "category",
                  "name": "StockCode",
                  "stats": {
                    "categories": [
                      {
                        "count": 1,
                        "name": "85048"
                      },
                      {
                        "count": 1,
                        "name": "79323P"
                      },
                      {
                        "count": 3,
                        "name": "3 others"
                      }
                    ],
                    "nan_count": 0,
                    "unique_count": 5
                  }
                },
                {
                  "dtype": "object",
                  "name": "Description",
                  "stats": {
                    "categories": [
                      {
                        "count": 1,
                        "name": "15CM CHRISTMAS GLASS BALL 20 LIGHTS"
                      },
                      {
                        "count": 1,
                        "name": "PINK CHERRY LIGHTS"
                      },
                      {
                        "count": 3,
                        "name": "3 others"
                      }
                    ],
                    "nan_count": 0,
                    "unique_count": 5
                  }
                },
                {
                  "dtype": "int64",
                  "name": "Quantity",
                  "stats": {
                    "histogram": [
                      {
                        "bin_end": 15.6,
                        "bin_start": 12,
                        "count": 3
                      },
                      {
                        "bin_end": 19.2,
                        "bin_start": 15.6,
                        "count": 0
                      },
                      {
                        "bin_end": 22.8,
                        "bin_start": 19.2,
                        "count": 0
                      },
                      {
                        "bin_end": 26.4,
                        "bin_start": 22.8,
                        "count": 1
                      },
                      {
                        "bin_end": 30,
                        "bin_start": 26.4,
                        "count": 0
                      },
                      {
                        "bin_end": 33.6,
                        "bin_start": 30,
                        "count": 0
                      },
                      {
                        "bin_end": 37.2,
                        "bin_start": 33.6,
                        "count": 0
                      },
                      {
                        "bin_end": 40.8,
                        "bin_start": 37.2,
                        "count": 0
                      },
                      {
                        "bin_end": 44.4,
                        "bin_start": 40.8,
                        "count": 0
                      },
                      {
                        "bin_end": 48,
                        "bin_start": 44.4,
                        "count": 1
                      }
                    ],
                    "max": "48",
                    "min": "12",
                    "nan_count": 0,
                    "unique_count": 3
                  }
                },
                {
                  "dtype": "datetime64[ns]",
                  "name": "InvoiceDate",
                  "stats": {
                    "histogram": null,
                    "max": "2009-12-01 07:45:00",
                    "min": "2009-12-01 07:45:00",
                    "nan_count": 0,
                    "unique_count": 1
                  }
                },
                {
                  "dtype": "float64",
                  "name": "Price",
                  "stats": {
                    "histogram": [
                      {
                        "bin_end": 1.82,
                        "bin_start": 1.25,
                        "count": 1
                      },
                      {
                        "bin_end": 2.39,
                        "bin_start": 1.82,
                        "count": 1
                      },
                      {
                        "bin_end": 2.96,
                        "bin_start": 2.39,
                        "count": 0
                      },
                      {
                        "bin_end": 3.5300000000000002,
                        "bin_start": 2.96,
                        "count": 0
                      },
                      {
                        "bin_end": 4.1000000000000005,
                        "bin_start": 3.5300000000000002,
                        "count": 0
                      },
                      {
                        "bin_end": 4.67,
                        "bin_start": 4.1000000000000005,
                        "count": 0
                      },
                      {
                        "bin_end": 5.24,
                        "bin_start": 4.67,
                        "count": 0
                      },
                      {
                        "bin_end": 5.8100000000000005,
                        "bin_start": 5.24,
                        "count": 0
                      },
                      {
                        "bin_end": 6.380000000000001,
                        "bin_start": 5.8100000000000005,
                        "count": 0
                      },
                      {
                        "bin_end": 6.95,
                        "bin_start": 6.380000000000001,
                        "count": 3
                      }
                    ],
                    "max": "6.95",
                    "min": "1.25",
                    "nan_count": 0,
                    "unique_count": 4
                  }
                },
                {
                  "dtype": "category",
                  "name": "Customer ID",
                  "stats": {
                    "categories": [
                      {
                        "count": 5,
                        "name": "13085.0"
                      }
                    ],
                    "nan_count": 0,
                    "unique_count": 1
                  }
                },
                {
                  "dtype": "category",
                  "name": "Country",
                  "stats": {
                    "categories": [
                      {
                        "count": 5,
                        "name": "United Kingdom"
                      }
                    ],
                    "nan_count": 0,
                    "unique_count": 1
                  }
                },
                {
                  "dtype": "int64",
                  "name": "_deepnote_index_column"
                }
              ],
              "row_count": 5,
              "rows_bottom": null,
              "rows_top": [
                {
                  "Country": "United Kingdom",
                  "Customer ID": 13085,
                  "Description": "15CM CHRISTMAS GLASS BALL 20 LIGHTS",
                  "Invoice": 489434,
                  "InvoiceDate": "2009-12-01T07:45:00.000000",
                  "Price": 6.95,
                  "Quantity": 12,
                  "StockCode": 85048,
                  "_deepnote_index_column": 0
                },
                {
                  "Country": "United Kingdom",
                  "Customer ID": 13085,
                  "Description": "PINK CHERRY LIGHTS",
                  "Invoice": 489434,
                  "InvoiceDate": "2009-12-01T07:45:00.000000",
                  "Price": 6.75,
                  "Quantity": 12,
                  "StockCode": "79323P",
                  "_deepnote_index_column": 1
                },
                {
                  "Country": "United Kingdom",
                  "Customer ID": 13085,
                  "Description": " WHITE CHERRY LIGHTS",
                  "Invoice": 489434,
                  "InvoiceDate": "2009-12-01T07:45:00.000000",
                  "Price": 6.75,
                  "Quantity": 12,
                  "StockCode": "79323W",
                  "_deepnote_index_column": 2
                },
                {
                  "Country": "United Kingdom",
                  "Customer ID": 13085,
                  "Description": "RECORD FRAME 7\" SINGLE SIZE ",
                  "Invoice": 489434,
                  "InvoiceDate": "2009-12-01T07:45:00.000000",
                  "Price": 2.1,
                  "Quantity": 48,
                  "StockCode": 22041,
                  "_deepnote_index_column": 3
                },
                {
                  "Country": "United Kingdom",
                  "Customer ID": 13085,
                  "Description": "STRAWBERRY CERAMIC TRINKET BOX",
                  "Invoice": 489434,
                  "InvoiceDate": "2009-12-01T07:45:00.000000",
                  "Price": 1.25,
                  "Quantity": 24,
                  "StockCode": 21232,
                  "_deepnote_index_column": 4
                }
              ]
            },
            "text/html": [
              "<div>\n",
              "<style scoped>\n",
              "    .dataframe tbody tr th:only-of-type {\n",
              "        vertical-align: middle;\n",
              "    }\n",
              "\n",
              "    .dataframe tbody tr th {\n",
              "        vertical-align: top;\n",
              "    }\n",
              "\n",
              "    .dataframe thead th {\n",
              "        text-align: right;\n",
              "    }\n",
              "</style>\n",
              "<table border=\"1\" class=\"dataframe\">\n",
              "  <thead>\n",
              "    <tr style=\"text-align: right;\">\n",
              "      <th></th>\n",
              "      <th>Invoice</th>\n",
              "      <th>StockCode</th>\n",
              "      <th>Description</th>\n",
              "      <th>Quantity</th>\n",
              "      <th>InvoiceDate</th>\n",
              "      <th>Price</th>\n",
              "      <th>Customer ID</th>\n",
              "      <th>Country</th>\n",
              "    </tr>\n",
              "  </thead>\n",
              "  <tbody>\n",
              "    <tr>\n",
              "      <th>0</th>\n",
              "      <td>489434</td>\n",
              "      <td>85048</td>\n",
              "      <td>15CM CHRISTMAS GLASS BALL 20 LIGHTS</td>\n",
              "      <td>12</td>\n",
              "      <td>2009-12-01 07:45:00</td>\n",
              "      <td>6.95</td>\n",
              "      <td>13085.0</td>\n",
              "      <td>United Kingdom</td>\n",
              "    </tr>\n",
              "    <tr>\n",
              "      <th>1</th>\n",
              "      <td>489434</td>\n",
              "      <td>79323P</td>\n",
              "      <td>PINK CHERRY LIGHTS</td>\n",
              "      <td>12</td>\n",
              "      <td>2009-12-01 07:45:00</td>\n",
              "      <td>6.75</td>\n",
              "      <td>13085.0</td>\n",
              "      <td>United Kingdom</td>\n",
              "    </tr>\n",
              "    <tr>\n",
              "      <th>2</th>\n",
              "      <td>489434</td>\n",
              "      <td>79323W</td>\n",
              "      <td>WHITE CHERRY LIGHTS</td>\n",
              "      <td>12</td>\n",
              "      <td>2009-12-01 07:45:00</td>\n",
              "      <td>6.75</td>\n",
              "      <td>13085.0</td>\n",
              "      <td>United Kingdom</td>\n",
              "    </tr>\n",
              "    <tr>\n",
              "      <th>3</th>\n",
              "      <td>489434</td>\n",
              "      <td>22041</td>\n",
              "      <td>RECORD FRAME 7\" SINGLE SIZE</td>\n",
              "      <td>48</td>\n",
              "      <td>2009-12-01 07:45:00</td>\n",
              "      <td>2.10</td>\n",
              "      <td>13085.0</td>\n",
              "      <td>United Kingdom</td>\n",
              "    </tr>\n",
              "    <tr>\n",
              "      <th>4</th>\n",
              "      <td>489434</td>\n",
              "      <td>21232</td>\n",
              "      <td>STRAWBERRY CERAMIC TRINKET BOX</td>\n",
              "      <td>24</td>\n",
              "      <td>2009-12-01 07:45:00</td>\n",
              "      <td>1.25</td>\n",
              "      <td>13085.0</td>\n",
              "      <td>United Kingdom</td>\n",
              "    </tr>\n",
              "  </tbody>\n",
              "</table>\n",
              "</div>"
            ],
            "text/plain": [
              "  Invoice StockCode                          Description  Quantity  \\\n",
              "0  489434     85048  15CM CHRISTMAS GLASS BALL 20 LIGHTS        12   \n",
              "1  489434    79323P                   PINK CHERRY LIGHTS        12   \n",
              "2  489434    79323W                  WHITE CHERRY LIGHTS        12   \n",
              "3  489434     22041         RECORD FRAME 7\" SINGLE SIZE         48   \n",
              "4  489434     21232       STRAWBERRY CERAMIC TRINKET BOX        24   \n",
              "\n",
              "          InvoiceDate  Price Customer ID         Country  \n",
              "0 2009-12-01 07:45:00   6.95     13085.0  United Kingdom  \n",
              "1 2009-12-01 07:45:00   6.75     13085.0  United Kingdom  \n",
              "2 2009-12-01 07:45:00   6.75     13085.0  United Kingdom  \n",
              "3 2009-12-01 07:45:00   2.10     13085.0  United Kingdom  \n",
              "4 2009-12-01 07:45:00   1.25     13085.0  United Kingdom  "
            ]
          },
          "execution_count": 4,
          "metadata": {},
          "output_type": "execute_result"
        }
      ],
      "source": [
        "# Inserte su código aquí\n",
        "df_retail = (...)"
      ]
    },
    {
      "cell_type": "markdown",
      "metadata": {
        "id": "Q6nm_0uWvrFv"
      },
      "source": [
        "### 1. Función para explorar características [0.5 puntos]"
      ]
    },
    {
      "cell_type": "markdown",
      "metadata": {
        "id": "KOZEZbbLoqfI"
      },
      "source": [
        "<p align=\"center\">\n",
        "  <img width=300 src=\"https://editor.analyticsvidhya.com/uploads/47389meme.png\">\n",
        "</p>\n"
      ]
    },
    {
      "cell_type": "markdown",
      "metadata": {
        "id": "J-7ZaNutk2GO"
      },
      "source": [
        "\n",
        "\n",
        "Tras inspeccionar brevemente los datos proporcionados, usted decide crear una función que realice lo siguiente:\n",
        "- Plotee un histograma para las variables precios y cantidad. [0.3 puntos]\n",
        "- Imprima un conteo de datos nulos por variable [0.2 puntos]\n",
        "\n",
        "**Nota**: Para generar los gráficos no es obligatorio el uso de `plotly`, pero si es altamente recomendado. Pueden encontrar más información de esta librería en este [enlace](https://plotly.com/python/)."
      ]
    },
    {
      "cell_type": "markdown",
      "metadata": {
        "id": "TM8FZ_4Yuiwi"
      },
      "source": [
        "**Respuesta:**"
      ]
    },
    {
      "cell_type": "code",
      "execution_count": null,
      "metadata": {
        "id": "uDqT1Ljpk7vp"
      },
      "outputs": [],
      "source": [
        "def explore_data(dataframe_in):\n",
        "  pass"
      ]
    },
    {
      "cell_type": "markdown",
      "metadata": {
        "id": "F4ZY_N0Ad1GP"
      },
      "source": [
        "### 2. Eliminando outliers [1.0 puntos]"
      ]
    },
    {
      "cell_type": "markdown",
      "metadata": {
        "id": "yXTpIi1Bo2KG"
      },
      "source": [
        "<p align=\"center\">\n",
        "  <img width=300 src=\"https://media.licdn.com/dms/image/C5612AQGdXKCka7HumA/article-cover_image-shrink_600_2000/0/1520056407281?e=2147483647&v=beta&t=VZcfjjzjK4LxXdZkSu1KisWC0Ry8bk4tPCn3R8aYdNM\">\n",
        "</p>\n",
        "\n",
        "\n"
      ]
    },
    {
      "cell_type": "markdown",
      "metadata": {
        "id": "ECqH4t-Jvj05"
      },
      "source": [
        "#### 2.1 Creando la clase IQR [0.5 puntos]"
      ]
    },
    {
      "cell_type": "markdown",
      "metadata": {
        "id": "GtCQGHN_mzEp"
      },
      "source": [
        "Entre las falencias de los datos, Mr. Cheems le comenta que a veces los operadores no ingresan el precio correcto de los productos. Mr. Cheems le comenta que se dio cuenta de este fenómeno porque hay productos con precios exagerádamente altos o bajos. Por lo cual usted decide eliminar outliers del dataframe a traves del rango intercuartil el cual cuenta con los siguientes pasos:\n",
        "\n",
        "1. Calcular el primer cuartil $Q1$ y el tercer cuartil $Q3$. Hint: utilice el método `quantile()`\n",
        "\n",
        "2. Calcular el rango intercuartil (RIC): $RIC = Q3 - Q1$\n",
        "\n",
        "3. Calcular los límites para identificar outliers:\n",
        " - Límite inferior: $~~Q1 - \\lambda \\cdot RIC$\n",
        " - Límite superior: $~~Q3 + \\lambda \\cdot RIC$\n",
        "\n",
        "4. Eliminar outliers: Los outliers son los datos que están por debajo del límite inferior o por encima del límite superior.\n",
        "\n",
        "\n",
        "Para realizar dicha tarea, usted decide crear una clase llamada `IQR()` utilizando `BaseEstimator` y `TransformerMixin` para realizar una transformación de cada una de las columnas numéricas del DataFrame utilizando `ColumnTransformer()` más tarde. Considere que lambda debe ser $\\lambda$ un parámetro a definir por el usuario.\n",
        "\n",
        "**Hint:** tome como referencia el siguiente [enlace](https://sklearn-template.readthedocs.io/en/latest/user_guide.html#transformer).\n",
        "\n",
        "**Nota:** No modificar el método set_output de la clase IQR"
      ]
    },
    {
      "cell_type": "markdown",
      "metadata": {
        "id": "3uqK6AZnuhmL"
      },
      "source": [
        "**Respuesta:**"
      ]
    },
    {
      "cell_type": "code",
      "execution_count": null,
      "metadata": {
        "id": "70CGFkRScKKP"
      },
      "outputs": [],
      "source": [
        "class IQR(BaseEstimator, TransformerMixin):\n",
        "\n",
        "  def __init__(self, ...):\n",
        "    #Completar código aquí\n",
        "    pass\n",
        "\n",
        "  def fit(self, X):\n",
        "    #Completar código aquí\n",
        "    pass\n",
        "\n",
        "  def transform(self, X):\n",
        "    #Completar código aquí\n",
        "    pass\n",
        "\n",
        "  def set_output(self,transform='default'):\n",
        "    #No modificar esta función\n",
        "    return self"
      ]
    },
    {
      "cell_type": "markdown",
      "metadata": {
        "id": "Pse94ohOm1um"
      },
      "source": [
        "#### 2.2 Creación del Pipeline [0.5 puntos]"
      ]
    },
    {
      "cell_type": "markdown",
      "metadata": {
        "id": "JVWWiGA5m_Hj"
      },
      "source": [
        "Para comenzar introduciéndose en el uso de pipeline, usted decide definir un pipeline con el Transformer previamente definido. Además, usted decide visualizar cómo cambia la distribución de las variables Precio y Cantidad antes y despues de aplicar IQR. Para ello, usted aplica los siguientes pasos:\n",
        "\n",
        "- Definir un pipeline llamado `numeric_transformations` para las variables precio y cantidad con la transformación IQR. [0.1 puntos]\n",
        "- Defina un column transformer que aplique `numeric_transformations` para las variables numéricas y `passthrough` para las variables categóricas. Adicionalmente, fije el parámetro `verbose_feature_names_out` en `False`. Ver hint al final [0.1 puntos]\n",
        "- Defina el dataframe `df_iqr` aplicado el column transformer a los datos proporcionados por Mr. Cheems considerando un valor de $\\lambda$ que tenga un desempeño aceptable para ambas variables. [0.1 puntos]\n",
        "- Usar `explore_data` en `df_retail` y en `df_iqr`.  [0.1 puntos]\n",
        "- Reportar los cambios observados en la distribución de las variables. ¿Qué sucede al aumentar el valor de lambda? [0.1 puntos]\n",
        "\n",
        "\n",
        "**Hint:** El transformador `passthrough` está predefinido y es una opción que puedes usar para las columnas que no deseas transformar. Al especificar 'passthrough' para una parte de tu ColumnTransformer, las columnas correspondientes pasarán a través del ColumnTransformer sin ninguna modificación. El siguiente [enlace](https://scikit-learn.org/stable/modules/generated/sklearn.compose.ColumnTransformer.html) le puede ser útil.\n",
        "\n",
        "**Nota:** Mantenga el método set_output del column transformer con la transformación `pandas` para obtener un dataframe una vez aplicado el column transformer."
      ]
    },
    {
      "cell_type": "markdown",
      "metadata": {
        "id": "vkeizZcLuabD"
      },
      "source": [
        "**Respuesta:**"
      ]
    },
    {
      "cell_type": "markdown",
      "metadata": {
        "id": "LF24vWb4GwLo"
      },
      "source": [
        "Apóyese de la siguiente estructura para su respuesta:"
      ]
    },
    {
      "cell_type": "code",
      "execution_count": null,
      "metadata": {
        "id": "ZaSuz2NSn7g6"
      },
      "outputs": [],
      "source": [
        "# Definicion las variables que pasarán por cada pipeline\n",
        "numerical_columns = (...)\n",
        "categorical_columns = (...)\n",
        "\n",
        "# Definicion del pipeline\n",
        "numeric_transformations = (...)\n",
        "\n",
        "# ColumnTransformer\n",
        "column_transformer = ColumnTransformer([('numerical', (...)),\n",
        "                                        ('categorical', (...))\n",
        "                                        ],\n",
        "                                        verbose_feature_names_out=...)\n",
        "\n",
        "column_transformer.set_output(transform='pandas')\n",
        "\n",
        "# Aplicamos ColumnTransformer a los datos\n",
        "df_iqr = (...)\n",
        "\n",
        "# Gráficos"
      ]
    },
    {
      "cell_type": "markdown",
      "metadata": {
        "id": "yPKnc6UcsDkm"
      },
      "source": [
        "*Reporte los cambios observados aquí.*"
      ]
    },
    {
      "cell_type": "markdown",
      "metadata": {
        "id": "MF5s4dqMYCbJ"
      },
      "source": [
        "### 3. Agregando un imputer al pipeline [1.0 puntos]\n",
        "\n"
      ]
    },
    {
      "cell_type": "markdown",
      "metadata": {
        "id": "2Bc9fFeXp-At"
      },
      "source": [
        "<p align=\"center\">\n",
        "  <img width=300 src=\"https://media.makeameme.org/created/hmm-there-is.jpg\">\n",
        "</p>"
      ]
    },
    {
      "cell_type": "markdown",
      "metadata": {
        "id": "uugEdc26vJ5N"
      },
      "source": [
        "Para continuar con la limpieza del dataframe usted decide imputar los datos nulos de las variables numéricas, para lo cual decide realizar las siguientes tareas:\n",
        "\n",
        "1. Crear un pipeline para variables categóricas llamado `categoric_transformations` con un paso llamado `mode_imputer`, en el cual se imputen los datos faltantes por la categoría más frecuente.\n",
        "2. Agregar al pipeline `numeric_transformations` un paso llamado `mean_imputer`, en el cual se imputen los datos por la media usando [SimpleImputer](https://scikit-learn.org/stable/modules/generated/sklearn.impute.SimpleImputer.html) [0.1 puntos]\n",
        "3. Crear y aplicar un `ColumnTransformer` actualizado con los pipelines `categoric_transformations` y `numeric_transformations` a `df_retail`, creando un dataframe llamado `df_mean_imputer`. [0.1 puntos]\n",
        "4. Comparar los resultados de `explore_data` en `df_mean_imputer` y `df_iqr`. ¿Qué diferencias observa en la distribución de los datos? [0.2 puntos]\n",
        "5. Cambiar el imputer de `numeric_transformations` por [KNNImputer](https://scikit-learn.org/stable/modules/generated/sklearn.impute.KNNImputer.html) y definir un nuevo dataframe llamado `df_knn_imputer`, aplicando el nuevo ColumnTransformer a `df_retail`. En caso de los tiempos de ejecución sean altos puede probar a reducir el parámetro `n_neighbors`. [0.1 puntos]\n",
        "6. Comparar los resultados de `explore_data` en `df_knn_imputer` y `df_iqr`. ¿Qué diferencias observa en la distribución de los datos? [0.2 puntos]\n",
        "7. Comparar los resultados de `explore_data` en `df_knn_imputer` y `df_mean_imputer`. ¿Cuál método de imputación es mejor? Deje el método escogido en el ColumnTransformer. [0.2 puntos]\n",
        "\n",
        "**Nota: Fije el parámetro verbose_feature_names_out en `False` y utilice el método set_output con transformación `pandas` en cada ColumnTransformer para obtener como salida un dataframe.**"
      ]
    },
    {
      "cell_type": "markdown",
      "metadata": {
        "id": "ACVUdZZxuo4o"
      },
      "source": [
        "**Respuesta:**"
      ]
    },
    {
      "cell_type": "code",
      "execution_count": null,
      "metadata": {
        "id": "x8jgag-EYFai"
      },
      "outputs": [],
      "source": [
        "# Escriba su respuesta aquí"
      ]
    },
    {
      "cell_type": "markdown",
      "metadata": {
        "id": "9PfBHpAsvSuD"
      },
      "source": [
        "*Escriba su respuesta aquí*"
      ]
    },
    {
      "cell_type": "markdown",
      "metadata": {
        "id": "buuUiW-9YYZ3"
      },
      "source": [
        "### 4. Creación de nuevas features [2.0 puntos]"
      ]
    },
    {
      "cell_type": "markdown",
      "metadata": {
        "id": "RQSuoL5mubnA"
      },
      "source": [
        "<p align=\"center\">\n",
        "  <img width=250 src=\"https://miro.medium.com/max/1000/1*JtTWgAcfVTWV8OTjT47Atg.jpeg\">\n",
        "</p>\n"
      ]
    },
    {
      "cell_type": "markdown",
      "metadata": {
        "id": "4-yHP5oIvzFS"
      },
      "source": [
        "#### 4.1 Definicion de LRMFP [1.0 puntos]"
      ]
    },
    {
      "cell_type": "markdown",
      "metadata": {
        "id": "qe0V2CnZY8Bc"
      },
      "source": [
        "Dado que Mr. Lepin está interesado en obtener nuevos atributos relevantes para su negocio, su equipo de expertos sugiere la construcción de variables **LRMFP**, las que se construyen en base a las siguientes definiciones:\n",
        "\n",
        "- **Length (L)**: Intervalo de tiempo, en días, entre la primera y la última visita del cliente. Mientras mas grande sea el valor, mas fiel es el cliente.\n",
        "\n",
        "- **Recency (R)**: Indica hace cuanto tiempo el cliente realizo su ultima compra. Notar que para este caso, mientras mas grande es el valor, menos interes posee el usuario para repetir una compra en uno de los locales. **Considere \"hoy\" como la fecha mas reciente del dataset**.\n",
        "\n",
        "- **Monetary (M)**: El término \"monetario\" se refiere a la cantidad media de dinero gastada por cada visita del cliente durante el período de observación y refleja la contribución del cliente a los ingresos de la empresa.\n",
        "\n",
        "- **Frequency (F)**: Se refiere al número total de visitas del cliente durante el periodo de observación. Cuanto mayor sea la frecuencia, mayor será la fidelidad del cliente.\n",
        "\n",
        "- **Periodicity (P)**: Representa si los clientes visitan las tiendas con regularidad.\n",
        "\n",
        "$$Periodicity(n)=std(IVT_1, ..., IVT_n)$$\n",
        "\n",
        "Donde $IVT$ denota el tiempo entre visitas y n representa el número de valores de tiempo entre visitas de un cliente.\n",
        "\n",
        "\n",
        "$$IVT_i=date\\_diff(t_{i+1},t)$$\n",
        "\n",
        "En base a las definiciones señaladas, diseñe una función que permita obtener las características **LRMFP** recibiendo un DataFrame como entrada. Para esto, no estará permitido el uso de iteradores, utilice todas las herramientas que les ofrece `pandas` para realizar esto.\n",
        "\n",
        "Una referencia que le puede ser útil es el [documento original](https://www.researchgate.net/publication/315979555_LRFMP_model_for_customer_segmentation_in_the_grocery_retail_industry_a_case_study) en donde se propone este método."
      ]
    },
    {
      "cell_type": "markdown",
      "metadata": {
        "cell_id": "bee8d549c7c043a5b0cafae0543afadf",
        "deepnote_cell_height": 212.6666717529297,
        "deepnote_cell_type": "markdown",
        "id": "L7ZwWJxhXMfk",
        "tags": []
      },
      "source": [
        "**<u>Formato</u> del Resultado Esperado:**\n",
        "\n",
        "| Customer ID | Length | Recency | Frequency | Monetary | Periodicity |\n",
        "|------------:|-------:|--------:|----------:|---------:|------------:|\n",
        "|   12346.0   |    294 |      67 |        46 |   -64.68 |        37.0 |\n",
        "|   12347.0   |     37 |       3 |        71 |  1323.32 |         0.0 |\n",
        "|   12349.0   |    327 |      43 |       107 |  2646.99 |        78.0 |\n",
        "|   12352.0   |     16 |      11 |        18 |   343.80 |         0.0 |\n",
        "|   12356.0   |     44 |      16 |        84 |  3562.25 |        12.0 |"
      ]
    },
    {
      "cell_type": "markdown",
      "metadata": {
        "cell_id": "3c7f8a4a06a44cbd8d50e8a4decf4c71",
        "deepnote_cell_height": 52.26666259765625,
        "deepnote_cell_type": "markdown",
        "id": "6GaQZaMXXMfk",
        "tags": []
      },
      "source": [
        "**Respuesta:**"
      ]
    },
    {
      "cell_type": "code",
      "execution_count": null,
      "metadata": {
        "cell_id": "39a8b98eacdc43a4bdfeaa138b746198",
        "deepnote_cell_height": 83.86666870117188,
        "deepnote_cell_type": "code",
        "id": "VsgqgqsjXMfl",
        "owner_user_id": "8c58f50a-7a08-41a2-952e-38bdb7507048",
        "tags": []
      },
      "outputs": [],
      "source": [
        "def custom_features(dataframe_in):\n",
        "    pass"
      ]
    },
    {
      "cell_type": "markdown",
      "metadata": {
        "id": "1ddL8wThv36t"
      },
      "source": [
        "#### 4.2 Agregando las custom features [1.0 puntos]"
      ]
    },
    {
      "cell_type": "markdown",
      "metadata": {
        "id": "ehLWiQzjwDm-"
      },
      "source": [
        "Ahora, usted decide agregar al pipeline las nuevas variables creadas, para lo cual realiza las siguientes tareas:\n",
        "\n",
        "1. Cree un nuevo pipeline llamado `retail_pipeline` que encapsule el ColumnTransformer y calcule las LRMFP. El primer paso del pipeline llámelo  `col_tranformer` y el segundo paso llámelo `custom_features`, incorpora las nuevas variables al dataframe. Hint: les puede ser útil investigar [este](https://scikit-learn.org/stable/modules/generated/sklearn.preprocessing.FunctionTransformer.html) método. [0.1 puntos]\n",
        "2. Aplicar el pipeline actualizado a los datos proporcionados por Mr. Cheems, creando un nuevo dataframe llamado `df_custom`. [0.1 puntos]\n",
        "3. Explorar la distribución de las nuevas variables con `explore_data` y comentar brevemente (2-3 líneas) características de cada custom feature. [0.5 puntos]\n",
        "5. Entregar un insight para el negocio en base a las nuevas variables. [0.3 puntos]\n",
        "\n",
        "**Nota:** Recuerde fijar el parámetro `verbose_feature_names_out` en `False` e incorporar el método `set_output` para obtener una salida en formato dataframe del ColumnTransformer."
      ]
    },
    {
      "cell_type": "markdown",
      "metadata": {
        "id": "HVCGxPgtwFsk"
      },
      "source": [
        "**Respuesta**"
      ]
    },
    {
      "cell_type": "code",
      "execution_count": null,
      "metadata": {
        "id": "JxILi3w0wE9Q"
      },
      "outputs": [],
      "source": []
    },
    {
      "cell_type": "markdown",
      "metadata": {
        "id": "qOV0y-e_lS39"
      },
      "source": [
        "### 5. MinMax Scaler [1.0 puntos]"
      ]
    },
    {
      "cell_type": "markdown",
      "metadata": {
        "id": "T55ZgReXvjGe"
      },
      "source": [
        "<p align=\"center\">\n",
        "  <img width=300 src=\"https://i.imgflip.com/1fsprn.jpg\">\n",
        "</p>\n"
      ]
    },
    {
      "cell_type": "markdown",
      "metadata": {
        "id": "4dk2R1kvuu-e"
      },
      "source": [
        "#### 5.1 Definición del Column Transformer [0.5 puntos]"
      ]
    },
    {
      "cell_type": "markdown",
      "metadata": {
        "cell_id": "94c48775ecb4496d970fbd920f65c126",
        "deepnote_cell_height": 268.70001220703125,
        "deepnote_cell_type": "markdown",
        "id": "iWsfp1dKXMfo",
        "tags": []
      },
      "source": [
        "Construya una clase llamada `MinMax()` para realizar una transformación de cada una de las columnas de un DataFrame utilizando `ColumnTransformer()`. Recuerde  usar `BaseEstimator` y `TransformerMixin`.\n",
        "\n",
        "\n",
        " Para esto considere que Min-Max escaler queda dada por la ecuación:\n",
        "\n",
        "$$MinMax = \\dfrac{x-min(x)}{max(x) - min(x)}$$\n",
        "\n",
        "\n",
        "Consulte el siguiente [link](https://sklearn-template.readthedocs.io/en/latest/user_guide.html#transformer) si tiene dudas sobre la creación de custom transformers."
      ]
    },
    {
      "cell_type": "markdown",
      "metadata": {
        "cell_id": "c087d1fa8aa94d7485fe1292bf628660",
        "deepnote_cell_height": 52.26666259765625,
        "deepnote_cell_type": "markdown",
        "id": "MUOLTWPDXMfo",
        "tags": []
      },
      "source": [
        "**Respuesta:**"
      ]
    },
    {
      "cell_type": "code",
      "execution_count": null,
      "metadata": {
        "cell_id": "07cb4dcf097c4c6baabb9ae2bda25caf",
        "deepnote_cell_height": 83.86666870117188,
        "deepnote_cell_type": "code",
        "id": "g15ZMCs-XMfo",
        "tags": []
      },
      "outputs": [],
      "source": [
        "class MinMax(BaseEstimator, TransformerMixin):\n",
        "\n",
        "    def fit(self,X):\n",
        "        #Agregar código aquí\n",
        "        pass\n",
        "\n",
        "    def transform(self,X):\n",
        "        #Agregar código aquí\n",
        "        pass\n",
        "\n",
        "    def set_output(self,transform='default'):\n",
        "        #No modificar este método\n",
        "        return self\n",
        "\n"
      ]
    },
    {
      "cell_type": "markdown",
      "metadata": {
        "id": "RySqWq1Muzp8"
      },
      "source": [
        "#### 5.2 Incorporando MinMax al pipeline [0.5 puntos]"
      ]
    },
    {
      "cell_type": "markdown",
      "metadata": {
        "id": "zmIqjkgDwRsV"
      },
      "source": [
        "Ahora, usted decide agregar el escalamiento al pipeline, para lo que decide seguir los siguientes pasos:\n",
        "\n",
        "- Agregar el paso `minmax` al pipeline `numeric_transformations`, haciendo uso de la clase creada. [0.1 puntos]\n",
        "- Defina el dataframe `df_minmax` aplicando el ColumnTransformer actualizado a los datos proporcionados por Mr. Cheems. [0.1 puntos]\n",
        "- Usar `explore_data` en `df_retail` y en `df_minmax`. [0.1 puntos]\n",
        "- Reportar los cambios observados en la distribución de las variables.  [0.2 puntos]\n",
        "\n",
        "**Nota:** Recuerde fijar el parámetro `verbose_feature_names_out` en `False` e incorporar el método `set_output` para obtener una salida en formato dataframe del ColumnTransformer."
      ]
    },
    {
      "cell_type": "markdown",
      "metadata": {
        "cell_id": "a480355952a34b6cb7e72afa764091d6",
        "deepnote_cell_height": 52.26666259765625,
        "deepnote_cell_type": "markdown",
        "id": "lL2_CyAGXMfp",
        "tags": []
      },
      "source": [
        "**Respuesta:**"
      ]
    },
    {
      "cell_type": "code",
      "execution_count": null,
      "metadata": {
        "cell_id": "1889976b7a4c40c7825752979b577567",
        "deepnote_cell_height": 65.86666870117188,
        "deepnote_cell_type": "code",
        "id": "NmApXgB8XMfp",
        "tags": []
      },
      "outputs": [],
      "source": []
    },
    {
      "cell_type": "markdown",
      "metadata": {
        "id": "iWXlAO8-wfNt"
      },
      "source": [
        "### 6. Pregunta teórica [0.5 puntos]"
      ]
    },
    {
      "cell_type": "markdown",
      "metadata": {
        "id": "JvsFRwpVtMh_"
      },
      "source": [
        "<p align=\"center\">\n",
        "  <img width=300 src=\"https://file.coinexstatic.com/2023-09-19/166BAC031F222E5910954E7D7D0BC844.png\">\n",
        "</p>"
      ]
    },
    {
      "cell_type": "markdown",
      "metadata": {
        "id": "Ou7lQIAHwiZv"
      },
      "source": [
        "Finalmente, explíquele a Mr. Cheems porqué es útil la creación de pipelines al momento de hacer Feature Engineering en Machine Learning."
      ]
    },
    {
      "cell_type": "markdown",
      "metadata": {
        "id": "29QJyzOCwjdD"
      },
      "source": [
        "**Respuesta:**"
      ]
    },
    {
      "cell_type": "markdown",
      "metadata": {
        "id": "YMDYYL1stUVO"
      },
      "source": [
        "*Escriba su respuesta aquí*"
      ]
    }
  ],
  "metadata": {
    "colab": {
      "collapsed_sections": [
        "wrG4gYabzAHs",
        "MhISwri4zAHy",
        "QDwIXTh7bK_A",
        "Q6nm_0uWvrFv",
        "F4ZY_N0Ad1GP",
        "ECqH4t-Jvj05",
        "Pse94ohOm1um",
        "MF5s4dqMYCbJ",
        "buuUiW-9YYZ3",
        "1ddL8wThv36t",
        "qOV0y-e_lS39",
        "4dk2R1kvuu-e",
        "RySqWq1Muzp8",
        "iWXlAO8-wfNt"
      ],
      "provenance": []
    },
    "deepnote_execution_queue": [],
    "deepnote_notebook_id": "33c253a4f84d40a091bd5023e95abb64",
    "kernelspec": {
      "display_name": "Lab_MDS_Primavera",
      "language": "python",
      "name": "python3"
    },
    "language_info": {
      "codemirror_mode": {
        "name": "ipython",
        "version": 3
      },
      "file_extension": ".py",
      "mimetype": "text/x-python",
      "name": "python",
      "nbconvert_exporter": "python",
      "pygments_lexer": "ipython3",
      "version": "3.12.0"
    }
  },
  "nbformat": 4,
  "nbformat_minor": 0
}
